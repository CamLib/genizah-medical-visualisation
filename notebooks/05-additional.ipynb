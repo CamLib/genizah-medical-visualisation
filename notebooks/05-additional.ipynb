{
 "cells": [
  {
   "cell_type": "markdown",
   "metadata": {},
   "source": [
    "# Additional collection-wide analysis"
   ]
  },
  {
   "cell_type": "code",
   "execution_count": 35,
   "metadata": {},
   "outputs": [],
   "source": [
    "import re\n",
    "import sys\n",
    "import tarfile\n",
    "import warnings\n",
    "\n",
    "from lxml import etree\n",
    "import numpy as np\n",
    "import pandas as pd\n",
    "\n",
    "import genizahdata as gd\n",
    "\n",
    "# Suppress warnings about messy metadata\n",
    "warnings.filterwarnings('ignore', category=gd.GenizahDataWarning)"
   ]
  },
  {
   "cell_type": "markdown",
   "metadata": {},
   "source": [
    "We'll use Vega/Altair for graphical visualisation"
   ]
  },
  {
   "cell_type": "code",
   "execution_count": 36,
   "metadata": {},
   "outputs": [
    {
     "data": {
      "text/plain": [
       "DataTransformerRegistry.enable('json')"
      ]
     },
     "execution_count": 36,
     "metadata": {},
     "output_type": "execute_result"
    }
   ],
   "source": [
    "import altair as alt\n",
    "\n",
    "alt.data_transformers.enable('json')"
   ]
  },
  {
   "cell_type": "code",
   "execution_count": 37,
   "metadata": {},
   "outputs": [
    {
     "data": {
      "text/html": [
       "<div>\n",
       "<style scoped>\n",
       "    .dataframe tbody tr th:only-of-type {\n",
       "        vertical-align: middle;\n",
       "    }\n",
       "\n",
       "    .dataframe tbody tr th {\n",
       "        vertical-align: top;\n",
       "    }\n",
       "\n",
       "    .dataframe thead th {\n",
       "        text-align: right;\n",
       "    }\n",
       "</style>\n",
       "<table border=\"1\" class=\"dataframe\">\n",
       "  <thead>\n",
       "    <tr style=\"text-align: right;\">\n",
       "      <th></th>\n",
       "      <th>columns</th>\n",
       "      <th>date_end</th>\n",
       "      <th>date_start</th>\n",
       "      <th>height</th>\n",
       "      <th>lines</th>\n",
       "      <th>material</th>\n",
       "      <th>summary</th>\n",
       "      <th>title</th>\n",
       "      <th>width</th>\n",
       "    </tr>\n",
       "    <tr>\n",
       "      <th>classmark</th>\n",
       "      <th></th>\n",
       "      <th></th>\n",
       "      <th></th>\n",
       "      <th></th>\n",
       "      <th></th>\n",
       "      <th></th>\n",
       "      <th></th>\n",
       "      <th></th>\n",
       "      <th></th>\n",
       "    </tr>\n",
       "  </thead>\n",
       "  <tbody>\n",
       "    <tr>\n",
       "      <th>MS-ADD-03430</th>\n",
       "      <td>1.0</td>\n",
       "      <td>1028-12-31</td>\n",
       "      <td>1028-01-01</td>\n",
       "      <td>NaN</td>\n",
       "      <td>37.0</td>\n",
       "      <td>vellum</td>\n",
       "      <td>Karaite ketubba for Sarwa bat Ṣedaqa b. Jarīr ...</td>\n",
       "      <td>Legal document: ketubba</td>\n",
       "      <td>NaN</td>\n",
       "    </tr>\n",
       "    <tr>\n",
       "      <th>MS-MOSSERI-I-A-00002</th>\n",
       "      <td>1.0</td>\n",
       "      <td>1051-12-31</td>\n",
       "      <td>1051-01-01</td>\n",
       "      <td>NaN</td>\n",
       "      <td>38.0</td>\n",
       "      <td>paper</td>\n",
       "      <td>Karaite betrothal deed for Yamān bat David b. ...</td>\n",
       "      <td>Legal document</td>\n",
       "      <td>NaN</td>\n",
       "    </tr>\n",
       "    <tr>\n",
       "      <th>MS-OR-01080-00001-00001</th>\n",
       "      <td>1.0</td>\n",
       "      <td>1899-12-31</td>\n",
       "      <td>0500-01-01</td>\n",
       "      <td>NaN</td>\n",
       "      <td>17.0</td>\n",
       "      <td>paper</td>\n",
       "      <td>Piyyuṭim on parašot Toldot to Qedošim (Genesis...</td>\n",
       "      <td>Piyyuṭ</td>\n",
       "      <td>NaN</td>\n",
       "    </tr>\n",
       "    <tr>\n",
       "      <th>MS-OR-01080-00001-00003</th>\n",
       "      <td>1.0</td>\n",
       "      <td>1199-12-31</td>\n",
       "      <td>1000-01-01</td>\n",
       "      <td>NaN</td>\n",
       "      <td>15.0</td>\n",
       "      <td>paper</td>\n",
       "      <td>Various piyyuṭim, as well as divorce and marri...</td>\n",
       "      <td>Piyyuṭ; liturgy; legal document</td>\n",
       "      <td>NaN</td>\n",
       "    </tr>\n",
       "    <tr>\n",
       "      <th>MS-OR-01080-00001-00004</th>\n",
       "      <td>1.0</td>\n",
       "      <td>1899-12-31</td>\n",
       "      <td>0500-01-01</td>\n",
       "      <td>NaN</td>\n",
       "      <td>22.0</td>\n",
       "      <td>paper</td>\n",
       "      <td>Piyyuṭim.</td>\n",
       "      <td>Piyyuṭ</td>\n",
       "      <td>NaN</td>\n",
       "    </tr>\n",
       "  </tbody>\n",
       "</table>\n",
       "</div>"
      ],
      "text/plain": [
       "                         columns    date_end  date_start  height  lines  \\\n",
       "classmark                                                                 \n",
       "MS-ADD-03430                 1.0  1028-12-31  1028-01-01     NaN   37.0   \n",
       "MS-MOSSERI-I-A-00002         1.0  1051-12-31  1051-01-01     NaN   38.0   \n",
       "MS-OR-01080-00001-00001      1.0  1899-12-31  0500-01-01     NaN   17.0   \n",
       "MS-OR-01080-00001-00003      1.0  1199-12-31  1000-01-01     NaN   15.0   \n",
       "MS-OR-01080-00001-00004      1.0  1899-12-31  0500-01-01     NaN   22.0   \n",
       "\n",
       "                        material  \\\n",
       "classmark                          \n",
       "MS-ADD-03430              vellum   \n",
       "MS-MOSSERI-I-A-00002       paper   \n",
       "MS-OR-01080-00001-00001    paper   \n",
       "MS-OR-01080-00001-00003    paper   \n",
       "MS-OR-01080-00001-00004    paper   \n",
       "\n",
       "                                                                   summary  \\\n",
       "classmark                                                                    \n",
       "MS-ADD-03430             Karaite ketubba for Sarwa bat Ṣedaqa b. Jarīr ...   \n",
       "MS-MOSSERI-I-A-00002     Karaite betrothal deed for Yamān bat David b. ...   \n",
       "MS-OR-01080-00001-00001  Piyyuṭim on parašot Toldot to Qedošim (Genesis...   \n",
       "MS-OR-01080-00001-00003  Various piyyuṭim, as well as divorce and marri...   \n",
       "MS-OR-01080-00001-00004                                          Piyyuṭim.   \n",
       "\n",
       "                                                   title  width  \n",
       "classmark                                                        \n",
       "MS-ADD-03430                     Legal document: ketubba    NaN  \n",
       "MS-MOSSERI-I-A-00002                      Legal document    NaN  \n",
       "MS-OR-01080-00001-00001                           Piyyuṭ    NaN  \n",
       "MS-OR-01080-00001-00003  Piyyuṭ; liturgy; legal document    NaN  \n",
       "MS-OR-01080-00001-00004                           Piyyuṭ    NaN  "
      ]
     },
     "execution_count": 37,
     "metadata": {},
     "output_type": "execute_result"
    }
   ],
   "source": [
    "bundle = tarfile.open('../medical-data/genizah-tei.tar.lz')\n",
    "\n",
    "data = pd.DataFrame.from_records(\n",
    "    (gd.get_data(path, root) for path, root in gd.extract_tar_xml(bundle)),\n",
    "    index='classmark')\n",
    "data.head()"
   ]
  },
  {
   "cell_type": "markdown",
   "metadata": {},
   "source": [
    "## Missing metadata\n",
    "\n",
    "It'd be interesting to get a feel for how much of the collection has descriptive metadata.\n",
    "\n",
    "Informally we know the collection has very varying levels of metadata coverage."
   ]
  },
  {
   "cell_type": "code",
   "execution_count": 38,
   "metadata": {},
   "outputs": [
    {
     "data": {
      "text/plain": [
       "(23006, 2242)"
      ]
     },
     "execution_count": 38,
     "metadata": {},
     "output_type": "execute_result"
    }
   ],
   "source": [
    "# Certainly plenty of items with blank fields:\n",
    "len(data), (pd.isna(data['columns'])).sum()"
   ]
  },
  {
   "cell_type": "markdown",
   "metadata": {},
   "source": [
    "Items with the most missing fields:"
   ]
  },
  {
   "cell_type": "code",
   "execution_count": 39,
   "metadata": {},
   "outputs": [
    {
     "data": {
      "text/html": [
       "<div>\n",
       "<style scoped>\n",
       "    .dataframe tbody tr th:only-of-type {\n",
       "        vertical-align: middle;\n",
       "    }\n",
       "\n",
       "    .dataframe tbody tr th {\n",
       "        vertical-align: top;\n",
       "    }\n",
       "\n",
       "    .dataframe thead th {\n",
       "        text-align: right;\n",
       "    }\n",
       "</style>\n",
       "<table border=\"1\" class=\"dataframe\">\n",
       "  <thead>\n",
       "    <tr style=\"text-align: right;\">\n",
       "      <th></th>\n",
       "      <th>columns</th>\n",
       "      <th>date_end</th>\n",
       "      <th>date_start</th>\n",
       "      <th>height</th>\n",
       "      <th>lines</th>\n",
       "      <th>material</th>\n",
       "      <th>summary</th>\n",
       "      <th>title</th>\n",
       "      <th>width</th>\n",
       "    </tr>\n",
       "    <tr>\n",
       "      <th>classmark</th>\n",
       "      <th></th>\n",
       "      <th></th>\n",
       "      <th></th>\n",
       "      <th></th>\n",
       "      <th></th>\n",
       "      <th></th>\n",
       "      <th></th>\n",
       "      <th></th>\n",
       "      <th></th>\n",
       "    </tr>\n",
       "  </thead>\n",
       "  <tbody>\n",
       "    <tr>\n",
       "      <th>MS-TS-MISC-00028-00155</th>\n",
       "      <td>NaN</td>\n",
       "      <td>1899-12-31</td>\n",
       "      <td>0500-01-01</td>\n",
       "      <td>NaN</td>\n",
       "      <td>NaN</td>\n",
       "      <td>None</td>\n",
       "      <td></td>\n",
       "      <td>Genizah Fragment</td>\n",
       "      <td>NaN</td>\n",
       "    </tr>\n",
       "    <tr>\n",
       "      <th>MS-OR-01080-J-00190</th>\n",
       "      <td>NaN</td>\n",
       "      <td>1899-12-31</td>\n",
       "      <td>0500-01-01</td>\n",
       "      <td>NaN</td>\n",
       "      <td>NaN</td>\n",
       "      <td>None</td>\n",
       "      <td></td>\n",
       "      <td>Genizah Fragment</td>\n",
       "      <td>NaN</td>\n",
       "    </tr>\n",
       "    <tr>\n",
       "      <th>MS-OR-01080-J-00187</th>\n",
       "      <td>NaN</td>\n",
       "      <td>1899-12-31</td>\n",
       "      <td>0500-01-01</td>\n",
       "      <td>NaN</td>\n",
       "      <td>NaN</td>\n",
       "      <td>None</td>\n",
       "      <td></td>\n",
       "      <td>Genizah Fragment</td>\n",
       "      <td>NaN</td>\n",
       "    </tr>\n",
       "    <tr>\n",
       "      <th>MS-OR-01080-J-00186</th>\n",
       "      <td>NaN</td>\n",
       "      <td>1899-12-31</td>\n",
       "      <td>0500-01-01</td>\n",
       "      <td>NaN</td>\n",
       "      <td>NaN</td>\n",
       "      <td>None</td>\n",
       "      <td></td>\n",
       "      <td>Genizah Fragment</td>\n",
       "      <td>NaN</td>\n",
       "    </tr>\n",
       "    <tr>\n",
       "      <th>MS-OR-01080-J-00185</th>\n",
       "      <td>NaN</td>\n",
       "      <td>1899-12-31</td>\n",
       "      <td>0500-01-01</td>\n",
       "      <td>NaN</td>\n",
       "      <td>NaN</td>\n",
       "      <td>None</td>\n",
       "      <td></td>\n",
       "      <td>Genizah Fragment</td>\n",
       "      <td>NaN</td>\n",
       "    </tr>\n",
       "  </tbody>\n",
       "</table>\n",
       "</div>"
      ],
      "text/plain": [
       "                        columns    date_end  date_start  height  lines  \\\n",
       "classmark                                                                \n",
       "MS-TS-MISC-00028-00155      NaN  1899-12-31  0500-01-01     NaN    NaN   \n",
       "MS-OR-01080-J-00190         NaN  1899-12-31  0500-01-01     NaN    NaN   \n",
       "MS-OR-01080-J-00187         NaN  1899-12-31  0500-01-01     NaN    NaN   \n",
       "MS-OR-01080-J-00186         NaN  1899-12-31  0500-01-01     NaN    NaN   \n",
       "MS-OR-01080-J-00185         NaN  1899-12-31  0500-01-01     NaN    NaN   \n",
       "\n",
       "                       material summary             title  width  \n",
       "classmark                                                         \n",
       "MS-TS-MISC-00028-00155     None          Genizah Fragment    NaN  \n",
       "MS-OR-01080-J-00190        None          Genizah Fragment    NaN  \n",
       "MS-OR-01080-J-00187        None          Genizah Fragment    NaN  \n",
       "MS-OR-01080-J-00186        None          Genizah Fragment    NaN  \n",
       "MS-OR-01080-J-00185        None          Genizah Fragment    NaN  "
      ]
     },
     "execution_count": 39,
     "metadata": {},
     "output_type": "execute_result"
    }
   ],
   "source": [
    "data.reindex(index=(~data.isna()).sum(axis=1).sort_values().index).head()"
   ]
  },
  {
   "cell_type": "markdown",
   "metadata": {},
   "source": [
    "The title and dates have placeholder default values. The start date 0500-01-01 and end date 1899-12-31 are defaults if a more exact date is not known."
   ]
  },
  {
   "cell_type": "code",
   "execution_count": 40,
   "metadata": {},
   "outputs": [],
   "source": [
    "import re\n",
    "\n",
    "def drop_default_values(genizah_df):\n",
    "    return genizah_df.replace(to_replace={\n",
    "        'date_start': {'0500-01-01': None},\n",
    "        'date_end': {'1899-12-31': None},\n",
    "        'title': {'Genizah Fragment': None},\n",
    "        'summary': {re.compile('^\\s*$'): None}})"
   ]
  },
  {
   "cell_type": "markdown",
   "metadata": {},
   "source": [
    "How many items have no (real) metadata?"
   ]
  },
  {
   "cell_type": "code",
   "execution_count": 41,
   "metadata": {},
   "outputs": [
    {
     "name": "stdout",
     "output_type": "stream",
     "text": [
      "1842 items are blank (8.0%) \n"
     ]
    }
   ],
   "source": [
    "_blank_items = ((~drop_default_values(data).isna()).sum(axis=1) == 0).sum()\n",
    "print(f'{_blank_items} items are blank ({_blank_items / data.shape[0]:.1%}) ')"
   ]
  },
  {
   "cell_type": "markdown",
   "metadata": {},
   "source": [
    "Perhaps breaking down items by the number of blank fields per item is useful:"
   ]
  },
  {
   "cell_type": "code",
   "execution_count": 42,
   "metadata": {},
   "outputs": [
    {
     "data": {
      "text/html": [
       "<div>\n",
       "<style scoped>\n",
       "    .dataframe tbody tr th:only-of-type {\n",
       "        vertical-align: middle;\n",
       "    }\n",
       "\n",
       "    .dataframe tbody tr th {\n",
       "        vertical-align: top;\n",
       "    }\n",
       "\n",
       "    .dataframe thead th {\n",
       "        text-align: right;\n",
       "    }\n",
       "</style>\n",
       "<table border=\"1\" class=\"dataframe\">\n",
       "  <thead>\n",
       "    <tr style=\"text-align: right;\">\n",
       "      <th></th>\n",
       "      <th>columns</th>\n",
       "      <th>date_end</th>\n",
       "      <th>date_start</th>\n",
       "      <th>height</th>\n",
       "      <th>lines</th>\n",
       "      <th>material</th>\n",
       "      <th>summary</th>\n",
       "      <th>title</th>\n",
       "      <th>width</th>\n",
       "      <th>missing_fields</th>\n",
       "    </tr>\n",
       "    <tr>\n",
       "      <th>classmark</th>\n",
       "      <th></th>\n",
       "      <th></th>\n",
       "      <th></th>\n",
       "      <th></th>\n",
       "      <th></th>\n",
       "      <th></th>\n",
       "      <th></th>\n",
       "      <th></th>\n",
       "      <th></th>\n",
       "      <th></th>\n",
       "    </tr>\n",
       "  </thead>\n",
       "  <tbody>\n",
       "    <tr>\n",
       "      <th>MS-ADD-03430</th>\n",
       "      <td>False</td>\n",
       "      <td>False</td>\n",
       "      <td>False</td>\n",
       "      <td>True</td>\n",
       "      <td>False</td>\n",
       "      <td>False</td>\n",
       "      <td>False</td>\n",
       "      <td>False</td>\n",
       "      <td>True</td>\n",
       "      <td>2</td>\n",
       "    </tr>\n",
       "    <tr>\n",
       "      <th>MS-MOSSERI-I-A-00002</th>\n",
       "      <td>False</td>\n",
       "      <td>False</td>\n",
       "      <td>False</td>\n",
       "      <td>True</td>\n",
       "      <td>False</td>\n",
       "      <td>False</td>\n",
       "      <td>False</td>\n",
       "      <td>False</td>\n",
       "      <td>True</td>\n",
       "      <td>2</td>\n",
       "    </tr>\n",
       "    <tr>\n",
       "      <th>MS-OR-01080-00001-00001</th>\n",
       "      <td>False</td>\n",
       "      <td>True</td>\n",
       "      <td>True</td>\n",
       "      <td>True</td>\n",
       "      <td>False</td>\n",
       "      <td>False</td>\n",
       "      <td>False</td>\n",
       "      <td>False</td>\n",
       "      <td>True</td>\n",
       "      <td>4</td>\n",
       "    </tr>\n",
       "    <tr>\n",
       "      <th>MS-OR-01080-00001-00003</th>\n",
       "      <td>False</td>\n",
       "      <td>False</td>\n",
       "      <td>False</td>\n",
       "      <td>True</td>\n",
       "      <td>False</td>\n",
       "      <td>False</td>\n",
       "      <td>False</td>\n",
       "      <td>False</td>\n",
       "      <td>True</td>\n",
       "      <td>2</td>\n",
       "    </tr>\n",
       "    <tr>\n",
       "      <th>MS-OR-01080-00001-00004</th>\n",
       "      <td>False</td>\n",
       "      <td>True</td>\n",
       "      <td>True</td>\n",
       "      <td>True</td>\n",
       "      <td>False</td>\n",
       "      <td>False</td>\n",
       "      <td>False</td>\n",
       "      <td>False</td>\n",
       "      <td>True</td>\n",
       "      <td>4</td>\n",
       "    </tr>\n",
       "  </tbody>\n",
       "</table>\n",
       "</div>"
      ],
      "text/plain": [
       "                         columns  date_end  date_start  height  lines  \\\n",
       "classmark                                                               \n",
       "MS-ADD-03430               False     False       False    True  False   \n",
       "MS-MOSSERI-I-A-00002       False     False       False    True  False   \n",
       "MS-OR-01080-00001-00001    False      True        True    True  False   \n",
       "MS-OR-01080-00001-00003    False     False       False    True  False   \n",
       "MS-OR-01080-00001-00004    False      True        True    True  False   \n",
       "\n",
       "                         material  summary  title  width  missing_fields  \n",
       "classmark                                                                 \n",
       "MS-ADD-03430                False    False  False   True               2  \n",
       "MS-MOSSERI-I-A-00002        False    False  False   True               2  \n",
       "MS-OR-01080-00001-00001     False    False  False   True               4  \n",
       "MS-OR-01080-00001-00003     False    False  False   True               2  \n",
       "MS-OR-01080-00001-00004     False    False  False   True               4  "
      ]
     },
     "execution_count": 42,
     "metadata": {},
     "output_type": "execute_result"
    }
   ],
   "source": [
    "missing_data = drop_default_values(data).isna()\n",
    "value_count = len(missing_data.columns)\n",
    "missing_data['missing_fields'] = missing_data.sum(axis='columns')\n",
    "missing_data.head()"
   ]
  },
  {
   "cell_type": "markdown",
   "metadata": {},
   "source": [
    "Plot the proportion of fields which are blank over the collection (broken down by number of blank fields per item):"
   ]
  },
  {
   "cell_type": "code",
   "execution_count": 43,
   "metadata": {},
   "outputs": [
    {
     "data": {
      "text/html": [
       "<div>\n",
       "<style scoped>\n",
       "    .dataframe tbody tr th:only-of-type {\n",
       "        vertical-align: middle;\n",
       "    }\n",
       "\n",
       "    .dataframe tbody tr th {\n",
       "        vertical-align: top;\n",
       "    }\n",
       "\n",
       "    .dataframe thead th {\n",
       "        text-align: right;\n",
       "    }\n",
       "</style>\n",
       "<table border=\"1\" class=\"dataframe\">\n",
       "  <thead>\n",
       "    <tr style=\"text-align: right;\">\n",
       "      <th></th>\n",
       "      <th>field</th>\n",
       "      <th>num_missing</th>\n",
       "      <th>missing_fields</th>\n",
       "      <th>group_size</th>\n",
       "      <th>pct_missing</th>\n",
       "    </tr>\n",
       "  </thead>\n",
       "  <tbody>\n",
       "    <tr>\n",
       "      <th>0</th>\n",
       "      <td>columns</td>\n",
       "      <td>2242.0</td>\n",
       "      <td>All documents</td>\n",
       "      <td>23006</td>\n",
       "      <td>0.097453</td>\n",
       "    </tr>\n",
       "    <tr>\n",
       "      <th>1</th>\n",
       "      <td>date_end</td>\n",
       "      <td>18551.0</td>\n",
       "      <td>All documents</td>\n",
       "      <td>23006</td>\n",
       "      <td>0.806355</td>\n",
       "    </tr>\n",
       "    <tr>\n",
       "      <th>2</th>\n",
       "      <td>date_start</td>\n",
       "      <td>18523.0</td>\n",
       "      <td>All documents</td>\n",
       "      <td>23006</td>\n",
       "      <td>0.805138</td>\n",
       "    </tr>\n",
       "    <tr>\n",
       "      <th>3</th>\n",
       "      <td>height</td>\n",
       "      <td>5047.0</td>\n",
       "      <td>All documents</td>\n",
       "      <td>23006</td>\n",
       "      <td>0.219378</td>\n",
       "    </tr>\n",
       "    <tr>\n",
       "      <th>4</th>\n",
       "      <td>lines</td>\n",
       "      <td>2242.0</td>\n",
       "      <td>All documents</td>\n",
       "      <td>23006</td>\n",
       "      <td>0.097453</td>\n",
       "    </tr>\n",
       "  </tbody>\n",
       "</table>\n",
       "</div>"
      ],
      "text/plain": [
       "        field  num_missing missing_fields  group_size  pct_missing\n",
       "0     columns       2242.0  All documents       23006     0.097453\n",
       "1    date_end      18551.0  All documents       23006     0.806355\n",
       "2  date_start      18523.0  All documents       23006     0.805138\n",
       "3      height       5047.0  All documents       23006     0.219378\n",
       "4       lines       2242.0  All documents       23006     0.097453"
      ]
     },
     "metadata": {},
     "output_type": "display_data"
    },
    {
     "data": {
      "text/html": [
       "<div>\n",
       "<style scoped>\n",
       "    .dataframe tbody tr th:only-of-type {\n",
       "        vertical-align: middle;\n",
       "    }\n",
       "\n",
       "    .dataframe tbody tr th {\n",
       "        vertical-align: top;\n",
       "    }\n",
       "\n",
       "    .dataframe thead th {\n",
       "        text-align: right;\n",
       "    }\n",
       "</style>\n",
       "<table border=\"1\" class=\"dataframe\">\n",
       "  <thead>\n",
       "    <tr style=\"text-align: right;\">\n",
       "      <th></th>\n",
       "      <th>field</th>\n",
       "      <th>num_missing</th>\n",
       "      <th>missing_fields</th>\n",
       "      <th>group_size</th>\n",
       "      <th>pct_missing</th>\n",
       "    </tr>\n",
       "  </thead>\n",
       "  <tbody>\n",
       "    <tr>\n",
       "      <th>76</th>\n",
       "      <td>lines</td>\n",
       "      <td>1842.0</td>\n",
       "      <td>9</td>\n",
       "      <td>1842</td>\n",
       "      <td>1.0</td>\n",
       "    </tr>\n",
       "    <tr>\n",
       "      <th>77</th>\n",
       "      <td>material</td>\n",
       "      <td>1842.0</td>\n",
       "      <td>9</td>\n",
       "      <td>1842</td>\n",
       "      <td>1.0</td>\n",
       "    </tr>\n",
       "    <tr>\n",
       "      <th>78</th>\n",
       "      <td>summary</td>\n",
       "      <td>1842.0</td>\n",
       "      <td>9</td>\n",
       "      <td>1842</td>\n",
       "      <td>1.0</td>\n",
       "    </tr>\n",
       "    <tr>\n",
       "      <th>79</th>\n",
       "      <td>title</td>\n",
       "      <td>1842.0</td>\n",
       "      <td>9</td>\n",
       "      <td>1842</td>\n",
       "      <td>1.0</td>\n",
       "    </tr>\n",
       "    <tr>\n",
       "      <th>80</th>\n",
       "      <td>width</td>\n",
       "      <td>1842.0</td>\n",
       "      <td>9</td>\n",
       "      <td>1842</td>\n",
       "      <td>1.0</td>\n",
       "    </tr>\n",
       "  </tbody>\n",
       "</table>\n",
       "</div>"
      ],
      "text/plain": [
       "       field  num_missing missing_fields  group_size  pct_missing\n",
       "76     lines       1842.0              9        1842          1.0\n",
       "77  material       1842.0              9        1842          1.0\n",
       "78   summary       1842.0              9        1842          1.0\n",
       "79     title       1842.0              9        1842          1.0\n",
       "80     width       1842.0              9        1842          1.0"
      ]
     },
     "metadata": {},
     "output_type": "display_data"
    }
   ],
   "source": [
    "missing_by_type = (missing_data.reset_index()\n",
    " .melt(id_vars='classmark', \n",
    "       value_vars=('columns date_end date_start height'\n",
    "                   ' lines material summary title width').split(), var_name='field', value_name='num_missing')\n",
    " .groupby('field')\n",
    " .sum())\n",
    "missing_by_type['missing_fields'] = 'All documents'\n",
    "missing_by_type['group_size'] = missing_data.shape[0]\n",
    "\n",
    "missing_by_type_breakdown = (missing_data.reset_index()\n",
    " .melt(id_vars='classmark missing_fields'.split(), \n",
    "       value_vars=('columns date_end date_start height'\n",
    "                   ' lines material summary title width').split(), var_name='field', value_name='num_missing')\n",
    " .groupby(['missing_fields', 'field'])\n",
    " .sum().reset_index(level=1))\n",
    "\n",
    "missing_by_type_breakdown = pd.merge(\n",
    "    missing_by_type_breakdown, \n",
    "    pd.DataFrame(missing_data.groupby('missing_fields').size().rename('group_size')),\n",
    "    left_on='missing_fields', right_on='missing_fields')\n",
    "\n",
    "missing = pd.concat([missing_by_type.reset_index(), missing_by_type_breakdown.reset_index()], \n",
    "                    ignore_index=True, sort=False)\n",
    "missing['pct_missing'] = missing['num_missing'] / missing['group_size']\n",
    "\n",
    "\n",
    "display(missing.head(), missing.tail())"
   ]
  },
  {
   "cell_type": "code",
   "execution_count": 44,
   "metadata": {},
   "outputs": [
    {
     "data": {
      "application/vnd.vegalite.v2+json": {
       "$schema": "https://vega.github.io/schema/vega-lite/v2.4.3.json",
       "config": {
        "view": {
         "height": 300,
         "width": 400
        }
       },
       "data": {
        "format": {
         "type": "json"
        },
        "url": "altair-data-550625e0de9d73de740ef6eafb0e39d7.json"
       },
       "encoding": {
        "color": {
         "field": "Fields missing per doc",
         "type": "nominal"
        },
        "row": {
         "field": "Fields missing per doc",
         "type": "nominal"
        },
        "tooltip": [
         {
          "field": "Percent missing",
          "format": ".1%",
          "type": "quantitative"
         },
         {
          "field": "Group size",
          "type": "quantitative"
         }
        ],
        "x": {
         "axis": {
          "format": "%"
         },
         "field": "Percent missing",
         "type": "quantitative"
        },
        "y": {
         "field": "field",
         "scale": {
          "rangeStep": 12
         },
         "title": null,
         "type": "nominal"
        }
       },
       "mark": {
        "orient": "vertical",
        "type": "bar"
       },
       "title": "Proportion of fields missing"
      },
      "image/png": "[encoded data removed]",
      "text/plain": [
       "<VegaLite 2 object>\n",
       "\n",
       "If you see this message, it means the renderer has not been properly enabled\n",
       "for the frontend that you are using. For more information, see\n",
       "https://altair-viz.github.io/user_guide/troubleshooting.html\n"
      ]
     },
     "execution_count": 44,
     "metadata": {},
     "output_type": "execute_result"
    }
   ],
   "source": [
    "(alt.Chart(missing.rename(columns=dict(missing_fields='Fields missing per doc',\n",
    "                                       pct_missing='Percent missing',\n",
    "                                       group_size='Group size')), title='Proportion of fields missing')\n",
    "    .mark_bar(orient='vertical')\n",
    "    .encode(alt.Y('field:N', title=None, scale=alt.Scale(rangeStep=12)),\n",
    "            alt.X('Percent missing:Q', axis=alt.Axis(format='%')),\n",
    "            row='Fields missing per doc:N',\n",
    "            color=alt.Color('Fields missing per doc:N'),\n",
    "            tooltip=[alt.Tooltip('Percent missing', format='.1%'),\n",
    "                     alt.Tooltip('Group size')]))"
   ]
  },
  {
   "cell_type": "markdown",
   "metadata": {},
   "source": [
    "A problem with the above is that the groups vary in size a lot, and the difference in size is not reflected. E.g. group 4 and 5 look similar, but 5 contains only 2 items."
   ]
  },
  {
   "cell_type": "code",
   "execution_count": 45,
   "metadata": {},
   "outputs": [
    {
     "data": {
      "text/html": [
       "<div>\n",
       "<style scoped>\n",
       "    .dataframe tbody tr th:only-of-type {\n",
       "        vertical-align: middle;\n",
       "    }\n",
       "\n",
       "    .dataframe tbody tr th {\n",
       "        vertical-align: top;\n",
       "    }\n",
       "\n",
       "    .dataframe thead th {\n",
       "        text-align: right;\n",
       "    }\n",
       "</style>\n",
       "<table border=\"1\" class=\"dataframe\">\n",
       "  <thead>\n",
       "    <tr style=\"text-align: right;\">\n",
       "      <th></th>\n",
       "      <th>docs_without_field</th>\n",
       "      <th>docs_without_n_fields</th>\n",
       "      <th>var_weight</th>\n",
       "      <th>var_size</th>\n",
       "    </tr>\n",
       "    <tr>\n",
       "      <th>field</th>\n",
       "      <th></th>\n",
       "      <th></th>\n",
       "      <th></th>\n",
       "      <th></th>\n",
       "    </tr>\n",
       "  </thead>\n",
       "  <tbody>\n",
       "    <tr>\n",
       "      <th>columns</th>\n",
       "      <td>21.0</td>\n",
       "      <td>15881</td>\n",
       "      <td>0.000661</td>\n",
       "      <td>10.5</td>\n",
       "    </tr>\n",
       "    <tr>\n",
       "      <th>date_end</th>\n",
       "      <td>14561.0</td>\n",
       "      <td>15881</td>\n",
       "      <td>0.458441</td>\n",
       "      <td>7280.5</td>\n",
       "    </tr>\n",
       "    <tr>\n",
       "      <th>date_start</th>\n",
       "      <td>14561.0</td>\n",
       "      <td>15881</td>\n",
       "      <td>0.458441</td>\n",
       "      <td>7280.5</td>\n",
       "    </tr>\n",
       "    <tr>\n",
       "      <th>height</th>\n",
       "      <td>1299.0</td>\n",
       "      <td>15881</td>\n",
       "      <td>0.040898</td>\n",
       "      <td>649.5</td>\n",
       "    </tr>\n",
       "    <tr>\n",
       "      <th>lines</th>\n",
       "      <td>21.0</td>\n",
       "      <td>15881</td>\n",
       "      <td>0.000661</td>\n",
       "      <td>10.5</td>\n",
       "    </tr>\n",
       "    <tr>\n",
       "      <th>material</th>\n",
       "      <td>0.0</td>\n",
       "      <td>15881</td>\n",
       "      <td>0.000000</td>\n",
       "      <td>0.0</td>\n",
       "    </tr>\n",
       "    <tr>\n",
       "      <th>summary</th>\n",
       "      <td>0.0</td>\n",
       "      <td>15881</td>\n",
       "      <td>0.000000</td>\n",
       "      <td>0.0</td>\n",
       "    </tr>\n",
       "    <tr>\n",
       "      <th>title</th>\n",
       "      <td>0.0</td>\n",
       "      <td>15881</td>\n",
       "      <td>0.000000</td>\n",
       "      <td>0.0</td>\n",
       "    </tr>\n",
       "    <tr>\n",
       "      <th>width</th>\n",
       "      <td>1299.0</td>\n",
       "      <td>15881</td>\n",
       "      <td>0.040898</td>\n",
       "      <td>649.5</td>\n",
       "    </tr>\n",
       "  </tbody>\n",
       "</table>\n",
       "</div>"
      ],
      "text/plain": [
       "            docs_without_field  docs_without_n_fields  var_weight  var_size\n",
       "field                                                                      \n",
       "columns                   21.0                  15881    0.000661      10.5\n",
       "date_end               14561.0                  15881    0.458441    7280.5\n",
       "date_start             14561.0                  15881    0.458441    7280.5\n",
       "height                  1299.0                  15881    0.040898     649.5\n",
       "lines                     21.0                  15881    0.000661      10.5\n",
       "material                   0.0                  15881    0.000000       0.0\n",
       "summary                    0.0                  15881    0.000000       0.0\n",
       "title                      0.0                  15881    0.000000       0.0\n",
       "width                   1299.0                  15881    0.040898     649.5"
      ]
     },
     "execution_count": 45,
     "metadata": {},
     "output_type": "execute_result"
    }
   ],
   "source": [
    "missing_by_var = missing_data.melt(id_vars='missing_fields', var_name='field').groupby(['missing_fields', 'field'])\n",
    "\n",
    "\n",
    "missing = pd.concat([missing_by_var.sum().rename(columns=dict(value='docs_without_field')),\n",
    "                     missing_by_var.count().rename(columns=dict(value='docs_without_n_fields'))], axis=1)\n",
    "\n",
    "# The proportion of all missing values which are type X\n",
    "missing['var_weight'] = (missing[['docs_without_field']] / \n",
    "                         missing[['docs_without_field']].sum(level=0))\n",
    "# The group with 0 missing values have NaN weight due division by zero - we'll use\n",
    "# zero weighting for all value types in this case as none are missing.\n",
    "missing.loc[0, 'var_weight'] = 0\n",
    "\n",
    "# I the breakdown of types missing to match the quantity of documents in\n",
    "# each type, so that the viewer sees the parallel between values missing and\n",
    "# \n",
    "\n",
    "# We want to present the fraction of values missing by type (in groups of\n",
    "# documents with N values missing) to be proportional to the number of\n",
    "# affected documents. Partly so that the user sees the parallel between the\n",
    "# number-of-documents-with-N-values-missing graph and the missing values\n",
    "# breakdown, but also so that bands large bands really indicate large numbers\n",
    "# of missing values.\n",
    "missing['var_size'] = missing['docs_without_n_fields'] * missing['var_weight']\n",
    "\n",
    "missing.loc[2]"
   ]
  },
  {
   "cell_type": "code",
   "execution_count": 46,
   "metadata": {},
   "outputs": [
    {
     "data": {
      "application/vnd.vegalite.v2+json": {
       "$schema": "https://vega.github.io/schema/vega-lite/v2.4.3.json",
       "config": {
        "view": {
         "height": 300,
         "width": 400
        }
       },
       "vconcat": [
        {
         "data": {
          "format": {
           "type": "json"
          },
          "url": "altair-data-af777ceedf5254db77675a350a977952.json"
         },
         "encoding": {
          "color": {
           "field": "Field",
           "type": "nominal"
          },
          "x": {
           "field": "missing_fields",
           "title": "number of missing fields per document",
           "type": "ordinal"
          },
          "y": {
           "aggregate": "sum",
           "axis": null,
           "field": "var_size",
           "type": "quantitative"
          }
         },
         "mark": {
          "interpolate": "monotone",
          "type": "area"
         },
         "title": "Fields left blank",
         "width": 700
        },
        {
         "data": {
          "format": {
           "type": "json"
          },
          "url": "altair-data-af777ceedf5254db77675a350a977952.json"
         },
         "encoding": {
          "x": {
           "field": "missing_fields",
           "title": "Missing fields per document",
           "type": "ordinal"
          },
          "y": {
           "field": "Documents",
           "type": "quantitative"
          }
         },
         "mark": {
          "interpolate": "monotone",
          "type": "bar"
         },
         "title": "Documents with N missing fields",
         "transform": [
          {
           "aggregate": [
            {
             "as": "Documents",
             "field": "docs_without_n_fields",
             "op": "max"
            }
           ],
           "groupby": [
            "missing_fields"
           ]
          }
         ],
         "width": 700
        }
       ]
      },
      "image/png": "[encoded data removed]",
      "text/plain": [
       "<VegaLite 2 object>\n",
       "\n",
       "If you see this message, it means the renderer has not been properly enabled\n",
       "for the frontend that you are using. For more information, see\n",
       "https://altair-viz.github.io/user_guide/troubleshooting.html\n"
      ]
     },
     "execution_count": 46,
     "metadata": {},
     "output_type": "execute_result"
    }
   ],
   "source": [
    "from altair import datum\n",
    "\n",
    "\n",
    "chart = alt.Chart(missing.reset_index().rename(columns=dict(field='Field')), width=700)\n",
    "upper = (chart.properties(title='Fields left blank')\n",
    "    .mark_area(interpolate='monotone')\n",
    "    .encode(x=alt.X('missing_fields:O',\n",
    "                    title='number of missing fields per document'),\n",
    "            y=alt.Y(aggregate='sum', field='var_size', type='quantitative', #stack='normalize', \n",
    "                    axis=None),\n",
    "            color='Field'\n",
    "    )\n",
    ")\n",
    "\n",
    "lower = (chart.properties(title='Documents with N missing fields')\n",
    "    .mark_bar(interpolate='monotone')\n",
    "    .encode(x=alt.X('missing_fields:O', title='Missing fields per document'),\n",
    "            y=alt.Y(field='Documents', type='quantitative')\n",
    "    )\n",
    "    .transform_aggregate(Documents='max(docs_without_n_fields)', groupby=['missing_fields']))\n",
    "\n",
    "upper & lower"
   ]
  },
  {
   "cell_type": "markdown",
   "metadata": {},
   "source": [
    "We can see that dates make up the bulk of missing data, followed by height and width of items."
   ]
  },
  {
   "cell_type": "markdown",
   "metadata": {},
   "source": [
    "# Item relationships\n",
    "\n",
    "In [04-data-visualisation](04-data-visualisation.ipynb) we tried to find associations between items by finding co-occuring terms in their descriptions. Another approach is to use use clustering methods to group items. We'll use k-means, applied to the item descriptions in a bag-of-words representation - each document occupies a point in n-dimentional space, where n is the number of words in the entire corpus of descriptions.\n",
    "\n",
    "See: http://scikit-learn.org/stable/auto_examples/text/document_clustering.html"
   ]
  },
  {
   "cell_type": "code",
   "execution_count": 47,
   "metadata": {},
   "outputs": [],
   "source": [
    "import string\n",
    "\n",
    "from sklearn.feature_extraction.text import CountVectorizer, TfidfTransformer"
   ]
  },
  {
   "cell_type": "code",
   "execution_count": 48,
   "metadata": {},
   "outputs": [
    {
     "data": {
      "text/plain": [
       "classmark\n",
       "MS-ADD-03430               Karaite ketubba for Sarwa bat Ṣedaqa b. Jarīr ...\n",
       "MS-MOSSERI-I-A-00002       Karaite betrothal deed for Yamān bat David b. ...\n",
       "MS-OR-01080-00001-00001    Piyyuṭim on parašot Toldot to Qedošim (Genesis...\n",
       "MS-OR-01080-00001-00003    Various piyyuṭim, as well as divorce and marri...\n",
       "MS-OR-01080-00001-00004                                            Piyyuṭim.\n",
       "Name: summary, dtype: object"
      ]
     },
     "metadata": {},
     "output_type": "display_data"
    },
    {
     "data": {
      "text/plain": [
       "21151"
      ]
     },
     "metadata": {},
     "output_type": "display_data"
    }
   ],
   "source": [
    "descriptions = drop_default_values(data[['summary']])['summary'].dropna()\n",
    "\n",
    "display(descriptions.head(), descriptions.size)"
   ]
  },
  {
   "cell_type": "markdown",
   "metadata": {},
   "source": [
    "Convert descriptions to word vectors..."
   ]
  },
  {
   "cell_type": "code",
   "execution_count": 49,
   "metadata": {},
   "outputs": [
    {
     "data": {
      "text/plain": [
       "<21151x17967 sparse matrix of type '<class 'numpy.int64'>'\n",
       "\twith 302461 stored elements in Compressed Sparse Row format>"
      ]
     },
     "execution_count": 49,
     "metadata": {},
     "output_type": "execute_result"
    }
   ],
   "source": [
    "vectoriser = CountVectorizer()\n",
    "\n",
    "corpus = vectoriser.fit_transform(list(descriptions))\n",
    "corpus"
   ]
  },
  {
   "cell_type": "markdown",
   "metadata": {},
   "source": [
    "We apply TF IDF to boost significant terms, and supress less significant terms."
   ]
  },
  {
   "cell_type": "code",
   "execution_count": 50,
   "metadata": {},
   "outputs": [
    {
     "data": {
      "text/plain": [
       "<21151x17967 sparse matrix of type '<class 'numpy.float64'>'\n",
       "\twith 302461 stored elements in Compressed Sparse Row format>"
      ]
     },
     "execution_count": 50,
     "metadata": {},
     "output_type": "execute_result"
    }
   ],
   "source": [
    "transformer = TfidfTransformer()\n",
    "tfidf = transformer.fit_transform(corpus)\n",
    "tfidf"
   ]
  },
  {
   "cell_type": "markdown",
   "metadata": {},
   "source": [
    "We can see the corpus-wide (inverse document frequency) weights found for the terms:"
   ]
  },
  {
   "cell_type": "code",
   "execution_count": 51,
   "metadata": {},
   "outputs": [
    {
     "data": {
      "text/markdown": [
       "### Less significant terms"
      ],
      "text/plain": [
       "<IPython.core.display.Markdown object>"
      ]
     },
     "metadata": {},
     "output_type": "display_data"
    },
    {
     "data": {
      "text/html": [
       "<div>\n",
       "<style scoped>\n",
       "    .dataframe tbody tr th:only-of-type {\n",
       "        vertical-align: middle;\n",
       "    }\n",
       "\n",
       "    .dataframe tbody tr th {\n",
       "        vertical-align: top;\n",
       "    }\n",
       "\n",
       "    .dataframe thead th {\n",
       "        text-align: right;\n",
       "    }\n",
       "</style>\n",
       "<table border=\"1\" class=\"dataframe\">\n",
       "  <thead>\n",
       "    <tr style=\"text-align: right;\">\n",
       "      <th></th>\n",
       "      <th>token</th>\n",
       "      <th>idf_weight</th>\n",
       "    </tr>\n",
       "    <tr>\n",
       "      <th>index</th>\n",
       "      <th></th>\n",
       "      <th></th>\n",
       "    </tr>\n",
       "  </thead>\n",
       "  <tbody>\n",
       "    <tr>\n",
       "      <th>12768</th>\n",
       "      <td>the</td>\n",
       "      <td>1.847755</td>\n",
       "    </tr>\n",
       "    <tr>\n",
       "      <th>9242</th>\n",
       "      <td>of</td>\n",
       "      <td>1.867708</td>\n",
       "    </tr>\n",
       "    <tr>\n",
       "      <th>2073</th>\n",
       "      <td>and</td>\n",
       "      <td>1.912963</td>\n",
       "    </tr>\n",
       "    <tr>\n",
       "      <th>6588</th>\n",
       "      <td>in</td>\n",
       "      <td>2.469462</td>\n",
       "    </tr>\n",
       "    <tr>\n",
       "      <th>5578</th>\n",
       "      <td>for</td>\n",
       "      <td>2.496119</td>\n",
       "    </tr>\n",
       "    <tr>\n",
       "      <th>12893</th>\n",
       "      <td>to</td>\n",
       "      <td>2.538147</td>\n",
       "    </tr>\n",
       "    <tr>\n",
       "      <th>9291</th>\n",
       "      <td>on</td>\n",
       "      <td>2.626219</td>\n",
       "    </tr>\n",
       "    <tr>\n",
       "      <th>13645</th>\n",
       "      <td>with</td>\n",
       "      <td>2.670453</td>\n",
       "    </tr>\n",
       "    <tr>\n",
       "      <th>5685</th>\n",
       "      <td>from</td>\n",
       "      <td>2.701326</td>\n",
       "    </tr>\n",
       "    <tr>\n",
       "      <th>7551</th>\n",
       "      <td>letter</td>\n",
       "      <td>2.713843</td>\n",
       "    </tr>\n",
       "  </tbody>\n",
       "</table>\n",
       "</div>"
      ],
      "text/plain": [
       "        token  idf_weight\n",
       "index                    \n",
       "12768     the    1.847755\n",
       "9242       of    1.867708\n",
       "2073      and    1.912963\n",
       "6588       in    2.469462\n",
       "5578      for    2.496119\n",
       "12893      to    2.538147\n",
       "9291       on    2.626219\n",
       "13645    with    2.670453\n",
       "5685     from    2.701326\n",
       "7551   letter    2.713843"
      ]
     },
     "metadata": {},
     "output_type": "display_data"
    },
    {
     "data": {
      "text/markdown": [
       "### More significant terms"
      ],
      "text/plain": [
       "<IPython.core.display.Markdown object>"
      ]
     },
     "metadata": {},
     "output_type": "display_data"
    },
    {
     "data": {
      "text/html": [
       "<div>\n",
       "<style scoped>\n",
       "    .dataframe tbody tr th:only-of-type {\n",
       "        vertical-align: middle;\n",
       "    }\n",
       "\n",
       "    .dataframe tbody tr th {\n",
       "        vertical-align: top;\n",
       "    }\n",
       "\n",
       "    .dataframe thead th {\n",
       "        text-align: right;\n",
       "    }\n",
       "</style>\n",
       "<table border=\"1\" class=\"dataframe\">\n",
       "  <thead>\n",
       "    <tr style=\"text-align: right;\">\n",
       "      <th></th>\n",
       "      <th>token</th>\n",
       "      <th>idf_weight</th>\n",
       "    </tr>\n",
       "    <tr>\n",
       "      <th>index</th>\n",
       "      <th></th>\n",
       "      <th></th>\n",
       "    </tr>\n",
       "  </thead>\n",
       "  <tbody>\n",
       "    <tr>\n",
       "      <th>1918</th>\n",
       "      <td>aleppians</td>\n",
       "      <td>10.266343</td>\n",
       "    </tr>\n",
       "    <tr>\n",
       "      <th>9711</th>\n",
       "      <td>pericopes</td>\n",
       "      <td>10.266343</td>\n",
       "    </tr>\n",
       "    <tr>\n",
       "      <th>9713</th>\n",
       "      <td>periodicity</td>\n",
       "      <td>10.266343</td>\n",
       "    </tr>\n",
       "    <tr>\n",
       "      <th>1916</th>\n",
       "      <td>aleman</td>\n",
       "      <td>10.266343</td>\n",
       "    </tr>\n",
       "    <tr>\n",
       "      <th>9717</th>\n",
       "      <td>perishing</td>\n",
       "      <td>10.266343</td>\n",
       "    </tr>\n",
       "    <tr>\n",
       "      <th>9718</th>\n",
       "      <td>permanent</td>\n",
       "      <td>10.266343</td>\n",
       "    </tr>\n",
       "    <tr>\n",
       "      <th>9719</th>\n",
       "      <td>permissibility</td>\n",
       "      <td>10.266343</td>\n",
       "    </tr>\n",
       "    <tr>\n",
       "      <th>1915</th>\n",
       "      <td>alefs</td>\n",
       "      <td>10.266343</td>\n",
       "    </tr>\n",
       "    <tr>\n",
       "      <th>1913</th>\n",
       "      <td>aldabi</td>\n",
       "      <td>10.266343</td>\n",
       "    </tr>\n",
       "    <tr>\n",
       "      <th>8983</th>\n",
       "      <td>negotiate</td>\n",
       "      <td>10.266343</td>\n",
       "    </tr>\n",
       "  </tbody>\n",
       "</table>\n",
       "</div>"
      ],
      "text/plain": [
       "                token  idf_weight\n",
       "index                            \n",
       "1918        aleppians   10.266343\n",
       "9711        pericopes   10.266343\n",
       "9713      periodicity   10.266343\n",
       "1916           aleman   10.266343\n",
       "9717        perishing   10.266343\n",
       "9718        permanent   10.266343\n",
       "9719   permissibility   10.266343\n",
       "1915            alefs   10.266343\n",
       "1913           aldabi   10.266343\n",
       "8983        negotiate   10.266343"
      ]
     },
     "metadata": {},
     "output_type": "display_data"
    }
   ],
   "source": [
    "from IPython.core.display import Markdown\n",
    "\n",
    "_tokens = pd.DataFrame.from_records(list(vectoriser.vocabulary_.items()), \n",
    "                          columns=['token', 'index'], index='index').sort_index()\n",
    "_weights = pd.DataFrame({'idf_weight': transformer.idf_})\n",
    "\n",
    "_global_term_weights = pd.concat([_tokens, _weights], axis=1).sort_values('idf_weight')\n",
    "\n",
    "display(Markdown('### Less significant terms'), _global_term_weights.head(10),\n",
    "        Markdown('### More significant terms'), _global_term_weights.tail(10))"
   ]
  },
  {
   "cell_type": "markdown",
   "metadata": {},
   "source": [
    "We can use Latent Semantic Analysis to reduce the dimentionality of our document-term matrix. This has benefits such as:\n",
    "\n",
    "* speeding up our k-means clustering\n",
    "* allowing synonymous terms to match without being explicitly included in documents"
   ]
  },
  {
   "cell_type": "code",
   "execution_count": 52,
   "metadata": {},
   "outputs": [],
   "source": [
    "from sklearn.decomposition import TruncatedSVD\n",
    "from sklearn.preprocessing import Normalizer\n",
    "from sklearn.pipeline import make_pipeline\n",
    "\n",
    "# 100 components is a recommended value for LSA\n",
    "svd = TruncatedSVD(100)\n",
    "# By normalising our vectors (to length 1) our k-means clustering \n",
    "# effectively works on angular distance, rather than ecludian distance, \n",
    "# which works better for comparing texts.\n",
    "normaliser = Normalizer(copy=False)\n",
    "lsa = make_pipeline(svd, normaliser)"
   ]
  },
  {
   "cell_type": "code",
   "execution_count": 53,
   "metadata": {},
   "outputs": [
    {
     "data": {
      "text/plain": [
       "array([[ 0.33385772, -0.17275751,  0.0698502 , ...,  0.07430968,\n",
       "        -0.05598793, -0.03756129],\n",
       "       [ 0.53277096, -0.30298426,  0.12154226, ...,  0.06264196,\n",
       "         0.09525355,  0.07268788],\n",
       "       [ 0.29785875, -0.22322596,  0.09693388, ...,  0.02198178,\n",
       "         0.00108929,  0.09139708],\n",
       "       ...,\n",
       "       [ 0.6379267 ,  0.34550025, -0.37137501, ..., -0.01871753,\n",
       "         0.0236815 ,  0.0266657 ],\n",
       "       [ 0.56101136,  0.38751578, -0.12666207, ...,  0.00865919,\n",
       "        -0.10583309, -0.02625761],\n",
       "       [ 0.60154906,  0.30180078, -0.3370964 , ..., -0.02949448,\n",
       "         0.01354781,  0.03544186]])"
      ]
     },
     "metadata": {},
     "output_type": "display_data"
    },
    {
     "data": {
      "text/plain": [
       "(21151, 100)"
      ]
     },
     "metadata": {},
     "output_type": "display_data"
    }
   ],
   "source": [
    "reduced = lsa.fit_transform(tfidf)\n",
    "display(reduced, reduced.shape)"
   ]
  },
  {
   "cell_type": "markdown",
   "metadata": {},
   "source": [
    "We use k-means to group our vector document representations according to similarity. Similar documents will be represented by vectors which point in similar directions, compared to dissimilar documents."
   ]
  },
  {
   "cell_type": "code",
   "execution_count": null,
   "metadata": {},
   "outputs": [],
   "source": [
    "from sklearn.cluster import KMeans\n",
    "\n",
    "# determined by manual experimentation, comparing silhouette values\n",
    "n_clusters = 80\n",
    "\n",
    "km = KMeans(n_clusters=n_clusters)\n",
    "km.fit(reduced)"
   ]
  },
  {
   "cell_type": "markdown",
   "metadata": {},
   "source": [
    "Find the most prominent terms in each of our clusters to get an idea of what each cluster represents:"
   ]
  },
  {
   "cell_type": "markdown",
   "metadata": {},
   "source": [
    "Clusters are in our reduced LSA space..."
   ]
  },
  {
   "cell_type": "code",
   "execution_count": null,
   "metadata": {},
   "outputs": [],
   "source": [
    "km.cluster_centers_.shape"
   ]
  },
  {
   "cell_type": "markdown",
   "metadata": {},
   "source": [
    "...but we want the original terms, so we need to reverse the reduction:"
   ]
  },
  {
   "cell_type": "code",
   "execution_count": null,
   "metadata": {},
   "outputs": [],
   "source": [
    "original_space_centroids = svd.inverse_transform(km.cluster_centers_)\n",
    "display(original_space_centroids, original_space_centroids.shape)"
   ]
  },
  {
   "cell_type": "markdown",
   "metadata": {},
   "source": [
    "`argsort` gives us the *indexes* which (if dereferenced) would give\n",
    "a sorted list. The indexes in the term vector are of course the same\n",
    "as in the weighted version, so by argsorting on the weights, we \n",
    "obtain the indexes of terms in order of prominence/contribution to a\n",
    "specific cluster."
   ]
  },
  {
   "cell_type": "code",
   "execution_count": null,
   "metadata": {},
   "outputs": [],
   "source": [
    "ordered_centroids = original_space_centroids.argsort()[:, ::-1]\n",
    "ordered_centroids"
   ]
  },
  {
   "cell_type": "code",
   "execution_count": null,
   "metadata": {},
   "outputs": [],
   "source": [
    "terms = vectoriser.get_feature_names()\n",
    "\n",
    "top_cluster_terms = pd.DataFrame({\n",
    "    'top_terms': [[terms[j] for j in ordered_centroids[i, :20]] \n",
    "                            for i in range(n_clusters)]})\n",
    "top_cluster_terms.index.name = 'label'\n",
    "top_cluster_terms.head()"
   ]
  },
  {
   "cell_type": "markdown",
   "metadata": {},
   "source": [
    "## Cluster quality\n",
    "\n",
    "K-means assigns items to one of *n* clusters, so selecting the number of clusters is important. I don't really have any sense of how many would work well for the Genizah data set, so I experiment with different values, combined results using the Silhouette Coefficient for items. "
   ]
  },
  {
   "cell_type": "code",
   "execution_count": null,
   "metadata": {},
   "outputs": [],
   "source": [
    "from sklearn.metrics import silhouette_score, silhouette_samples"
   ]
  },
  {
   "cell_type": "markdown",
   "metadata": {},
   "source": [
    "The `silhouette_score` gives us the average score over all items, which gives some indication of the separation of items. Values range from -1 to 1, with values nearer to 1 being further away from neighboring clusters, and values near 0 being close to the boundary between the item's cluster and the nearest other cluster."
   ]
  },
  {
   "cell_type": "code",
   "execution_count": null,
   "metadata": {},
   "outputs": [],
   "source": [
    "silhouette_score(reduced, km.labels_)\n",
    "# Experimentation with various cluster numbers:\n",
    "# 32: 0.15\n",
    "# 38: 0.17\n",
    "# 47: 0.18 \n",
    "# 50: 0.834\n",
    "# 55: 0.188\n",
    "# 64: 0.19\n",
    "# 128: 0.2\n",
    "# 256: 0.20\n",
    "# 512: 0.21"
   ]
  },
  {
   "cell_type": "code",
   "execution_count": null,
   "metadata": {},
   "outputs": [],
   "source": [
    "ss = silhouette_samples(reduced, km.labels_)\n",
    "ss.shape"
   ]
  },
  {
   "cell_type": "code",
   "execution_count": null,
   "metadata": {},
   "outputs": [],
   "source": [
    "cluster_silhouettes = pd.DataFrame({'silhouette': ss, 'label': km.labels_})\n",
    "display(cluster_silhouettes.head())\n",
    "cluster_silhouettes.shape"
   ]
  },
  {
   "cell_type": "markdown",
   "metadata": {},
   "source": [
    "Analyse distribution of each cluster's silhouette coefficient values with histograms:"
   ]
  },
  {
   "cell_type": "code",
   "execution_count": null,
   "metadata": {},
   "outputs": [],
   "source": [
    "(alt.Chart(cluster_silhouettes)\n",
    "    .mark_bar()\n",
    "    .encode(x=alt.X('silhouette:Q', \n",
    "                    bin=alt.Bin(maxbins=20), \n",
    "                    axis=alt.Axis(grid=True)),\n",
    "            y=alt.Y('count()'))\n",
    "    .properties(width=180, height=180)\n",
    "    .facet('label:N'))"
   ]
  },
  {
   "cell_type": "markdown",
   "metadata": {},
   "source": [
    "Alternative view of silhouette coefficient distribution by cluster:"
   ]
  },
  {
   "cell_type": "code",
   "execution_count": null,
   "metadata": {},
   "outputs": [],
   "source": [
    "g = cluster_silhouettes.groupby('label')\n",
    "\n",
    "sil_group_stats = pd.DataFrame({\n",
    "    'mean': g['silhouette'].mean(),\n",
    "    'median': g['silhouette'].median(),\n",
    "    'std': g['silhouette'].std()\n",
    "}).reset_index().melt(var_name='Aggregate', id_vars='label')\n",
    "\n",
    "display(sil_group_stats.head())\n",
    "\n",
    "(alt.Chart(sil_group_stats)\n",
    "    .mark_bar()\n",
    "    .encode(x=alt.X('Aggregate:N', title=None, scale=alt.Scale(rangeStep=8), axis=None),\n",
    "            y='value:Q',\n",
    "            column='label:N',\n",
    "            color=alt.Color('Aggregate:N', legend=alt.Legend(orient='left'))))\n"
   ]
  },
  {
   "cell_type": "code",
   "execution_count": null,
   "metadata": {},
   "outputs": [],
   "source": [
    "clusters = pd.DataFrame({'silhouette_mean': cluster_silhouettes.groupby('label').mean()['silhouette'], \n",
    "                        'top_terms': top_cluster_terms['top_terms']})\n",
    "display(clusters.head())\n",
    "clusters.shape\n"
   ]
  },
  {
   "cell_type": "code",
   "execution_count": null,
   "metadata": {},
   "outputs": [],
   "source": [
    "reasonable_groups = cluster_silhouettes.groupby('label').mean().query('silhouette >= 0.2')\n",
    "reasonable_groups"
   ]
  },
  {
   "cell_type": "code",
   "execution_count": null,
   "metadata": {},
   "outputs": [],
   "source": [
    "_labeled_descriptions = (pd.concat([pd.DataFrame(descriptions).reset_index(), \n",
    "           pd.Series(km.labels_, name='label')], axis=1))\n",
    "cluster_members = _labeled_descriptions.groupby('label')\n",
    "cluster_members.get_group(0).head()"
   ]
  },
  {
   "cell_type": "code",
   "execution_count": null,
   "metadata": {},
   "outputs": [],
   "source": [
    "clusters.size().mean()"
   ]
  },
  {
   "cell_type": "code",
   "execution_count": null,
   "metadata": {},
   "outputs": [],
   "source": [
    "# 10 = unidentified text\n",
    "# 16 = benedictions\n",
    "# 79 = Seliḥot\n",
    "# 73 = additional service\n",
    "# 26 = passover haggada\n",
    "clusters.get_group(26)"
   ]
  },
  {
   "cell_type": "code",
   "execution_count": null,
   "metadata": {},
   "outputs": [],
   "source": [
    "%%html\n",
    "foo"
   ]
  },
  {
   "cell_type": "code",
   "execution_count": null,
   "metadata": {},
   "outputs": [],
   "source": [
    "from IPython.core.display import HTML"
   ]
  },
  {
   "cell_type": "code",
   "execution_count": null,
   "metadata": {},
   "outputs": [],
   "source": [
    "HTML('<h1>Hi</h1>')"
   ]
  },
  {
   "cell_type": "code",
   "execution_count": null,
   "metadata": {},
   "outputs": [],
   "source": [
    "from html import escape as escape\n",
    "\n",
    "def esc(x):\n",
    "    return escape(str(x))"
   ]
  },
  {
   "cell_type": "code",
   "execution_count": null,
   "metadata": {},
   "outputs": [],
   "source": [
    "rendered_clusters = []\n",
    "\n",
    "def render_member(member):\n",
    "    classmark, summary = member[['classmark', 'summary']]\n",
    "    \n",
    "    return f'<tr><td><a href=\"https://cudl.lib.cam.ac.uk/view/{esc(classmark)}\">{esc(classmark)}</a></td><td>{escape(summary)}</td></tr>'\n",
    "\n",
    "for cluster, (silhouette, terms) in (clusters\n",
    "                .sort_values('silhouette_mean', ascending=False)\n",
    "                .query('silhouette_mean >= 0.2')\n",
    "                .iterrows()):\n",
    "    rendered_members = '\\n'.join(render_member(member) \n",
    "                                 for _, member in cluster_members.get_group(cluster).iterrows())\n",
    "    \n",
    "    rendered_terms = ''.join(f'<code class=\"term\">{esc(term)}</code> ' for term in terms)\n",
    "    \n",
    "    rendered_clusters.append(f'''\n",
    "<h2>Cluster <strong>#{esc(cluster)}</strong> <small>(mean silhouette score: {silhouette:.2f})</small></h2>\n",
    "\n",
    "<h3>Top terms</h3>\n",
    "\n",
    "<div class=\"terms\">\n",
    "{rendered_terms}\n",
    "</div>\n",
    "\n",
    "<h3>Members</h3>\n",
    "\n",
    "<table class=\"cluster-members\">\n",
    "<tr><th>Classmark</th><th>Description</th></tr>\n",
    "{rendered_members}\n",
    "</table>\n",
    "    ''')\n",
    "\n",
    "HTML('''\n",
    "<style>\n",
    ".terms .term {\n",
    "  padding-left: 1em;\n",
    "  padding-right: 1em;\n",
    "}\n",
    "\n",
    "table.cluster-members td, table.cluster-members th {\n",
    "    overflow: hidden; \n",
    "    white-space: nowrap;\n",
    "    text-align: left;\n",
    "}\n",
    "</style>\n",
    "''' + f'''\n",
    "<h1>Clusters</h1>\n",
    "\n",
    "{''.join(rendered_clusters)}\n",
    "''')"
   ]
  },
  {
   "cell_type": "code",
   "execution_count": null,
   "metadata": {},
   "outputs": [],
   "source": []
  }
 ],
 "metadata": {
  "kernelspec": {
   "display_name": "Python 3",
   "language": "python",
   "name": "python3"
  },
  "language_info": {
   "codemirror_mode": {
    "name": "ipython",
    "version": 3
   },
   "file_extension": ".py",
   "mimetype": "text/x-python",
   "name": "python",
   "nbconvert_exporter": "python",
   "pygments_lexer": "ipython3",
   "version": "3.6.3"
  }
 },
 "nbformat": 4,
 "nbformat_minor": 2
}
