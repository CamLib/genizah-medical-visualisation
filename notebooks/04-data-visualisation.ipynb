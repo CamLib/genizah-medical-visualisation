{
 "cells": [
  {
   "cell_type": "markdown",
   "metadata": {},
   "source": [
    "- num. Tokens by category\n",
    "- num. Fragments by category\n",
    "- Fragment sizes\n",
    "- Fragment paper types\n",
    "- Most popular:\n",
    "    - authorities\n",
    "    - body parts\n",
    "    - ailments\n",
    "    - treatments\n",
    "    - ingredients\n",
    "    - Co-occurance of these?"
   ]
  },
  {
   "cell_type": "code",
   "execution_count": 1,
   "metadata": {},
   "outputs": [
    {
     "name": "stderr",
     "output_type": "stream",
     "text": [
      "/home/hal/.local/share/virtualenvs/genizah-visualisation-mG8BC0xT/lib/python3.6/importlib/_bootstrap.py:219: RuntimeWarning: numpy.dtype size changed, may indicate binary incompatibility. Expected 96, got 88\n",
      "  return f(*args, **kwds)\n"
     ]
    },
    {
     "data": {
      "text/plain": [
       "DataTransformerRegistry.enable('json')"
      ]
     },
     "execution_count": 1,
     "metadata": {},
     "output_type": "execute_result"
    }
   ],
   "source": [
    "import altair as alt\n",
    "import pandas as pd\n",
    "\n",
    "alt.data_transformers.enable('json')"
   ]
  },
  {
   "cell_type": "code",
   "execution_count": 2,
   "metadata": {},
   "outputs": [
    {
     "data": {
      "text/html": [
       "<div>\n",
       "<style scoped>\n",
       "    .dataframe tbody tr th:only-of-type {\n",
       "        vertical-align: middle;\n",
       "    }\n",
       "\n",
       "    .dataframe tbody tr th {\n",
       "        vertical-align: top;\n",
       "    }\n",
       "\n",
       "    .dataframe thead th {\n",
       "        text-align: right;\n",
       "    }\n",
       "</style>\n",
       "<table border=\"1\" class=\"dataframe\">\n",
       "  <thead>\n",
       "    <tr style=\"text-align: right;\">\n",
       "      <th></th>\n",
       "      <th>type</th>\n",
       "    </tr>\n",
       "    <tr>\n",
       "      <th>token</th>\n",
       "      <th></th>\n",
       "    </tr>\n",
       "  </thead>\n",
       "  <tbody>\n",
       "    <tr>\n",
       "      <th>abcess</th>\n",
       "      <td>ailment</td>\n",
       "    </tr>\n",
       "    <tr>\n",
       "      <th>abcesses</th>\n",
       "      <td>ailment</td>\n",
       "    </tr>\n",
       "    <tr>\n",
       "      <th>abdomen</th>\n",
       "      <td>body_part</td>\n",
       "    </tr>\n",
       "    <tr>\n",
       "      <th>abdominal</th>\n",
       "      <td>body_part</td>\n",
       "    </tr>\n",
       "    <tr>\n",
       "      <th>abnormal</th>\n",
       "      <td>ailment</td>\n",
       "    </tr>\n",
       "  </tbody>\n",
       "</table>\n",
       "</div>"
      ],
      "text/plain": [
       "                type\n",
       "token               \n",
       "abcess       ailment\n",
       "abcesses     ailment\n",
       "abdomen    body_part\n",
       "abdominal  body_part\n",
       "abnormal     ailment"
      ]
     },
     "execution_count": 2,
     "metadata": {},
     "output_type": "execute_result"
    }
   ],
   "source": [
    "token_types = pd.read_csv('../medical-data/token-types.csv', index_col='token')\n",
    "token_types.head()"
   ]
  },
  {
   "cell_type": "code",
   "execution_count": 3,
   "metadata": {},
   "outputs": [
    {
     "data": {
      "text/html": [
       "<div>\n",
       "<style scoped>\n",
       "    .dataframe tbody tr th:only-of-type {\n",
       "        vertical-align: middle;\n",
       "    }\n",
       "\n",
       "    .dataframe tbody tr th {\n",
       "        vertical-align: top;\n",
       "    }\n",
       "\n",
       "    .dataframe thead th {\n",
       "        text-align: right;\n",
       "    }\n",
       "</style>\n",
       "<table border=\"1\" class=\"dataframe\">\n",
       "  <thead>\n",
       "    <tr style=\"text-align: right;\">\n",
       "      <th></th>\n",
       "      <th>classmark</th>\n",
       "      <th>token</th>\n",
       "    </tr>\n",
       "  </thead>\n",
       "  <tbody>\n",
       "    <tr>\n",
       "      <th>0</th>\n",
       "      <td>MS-OR-01080-00001-00063</td>\n",
       "      <td>pharmacopoeia</td>\n",
       "    </tr>\n",
       "    <tr>\n",
       "      <th>1</th>\n",
       "      <td>MS-OR-01080-00001-00063</td>\n",
       "      <td>containing</td>\n",
       "    </tr>\n",
       "    <tr>\n",
       "      <th>2</th>\n",
       "      <td>MS-OR-01080-00001-00063</td>\n",
       "      <td>diagram</td>\n",
       "    </tr>\n",
       "    <tr>\n",
       "      <th>3</th>\n",
       "      <td>MS-OR-01080-00001-00063</td>\n",
       "      <td>and</td>\n",
       "    </tr>\n",
       "    <tr>\n",
       "      <th>4</th>\n",
       "      <td>MS-OR-01080-00001-00063</td>\n",
       "      <td>symbol</td>\n",
       "    </tr>\n",
       "  </tbody>\n",
       "</table>\n",
       "</div>"
      ],
      "text/plain": [
       "                 classmark          token\n",
       "0  MS-OR-01080-00001-00063  pharmacopoeia\n",
       "1  MS-OR-01080-00001-00063     containing\n",
       "2  MS-OR-01080-00001-00063        diagram\n",
       "3  MS-OR-01080-00001-00063            and\n",
       "4  MS-OR-01080-00001-00063         symbol"
      ]
     },
     "execution_count": 3,
     "metadata": {},
     "output_type": "execute_result"
    }
   ],
   "source": [
    "fragment_tokens = pd.read_csv('../medical-data/fragment-tokens.csv')\n",
    "fragment_tokens.head()"
   ]
  },
  {
   "cell_type": "code",
   "execution_count": 4,
   "metadata": {},
   "outputs": [
    {
     "data": {
      "text/plain": [
       "38165"
      ]
     },
     "execution_count": 4,
     "metadata": {},
     "output_type": "execute_result"
    }
   ],
   "source": [
    "len(fragment_tokens)"
   ]
  },
  {
   "cell_type": "code",
   "execution_count": 5,
   "metadata": {},
   "outputs": [
    {
     "data": {
      "text/html": [
       "<div>\n",
       "<style scoped>\n",
       "    .dataframe tbody tr th:only-of-type {\n",
       "        vertical-align: middle;\n",
       "    }\n",
       "\n",
       "    .dataframe tbody tr th {\n",
       "        vertical-align: top;\n",
       "    }\n",
       "\n",
       "    .dataframe thead th {\n",
       "        text-align: right;\n",
       "    }\n",
       "</style>\n",
       "<table border=\"1\" class=\"dataframe\">\n",
       "  <thead>\n",
       "    <tr style=\"text-align: right;\">\n",
       "      <th></th>\n",
       "      <th>classmark</th>\n",
       "      <th>token</th>\n",
       "      <th>type</th>\n",
       "    </tr>\n",
       "  </thead>\n",
       "  <tbody>\n",
       "    <tr>\n",
       "      <th>0</th>\n",
       "      <td>MS-OR-01080-00001-00063</td>\n",
       "      <td>pharmacopoeia</td>\n",
       "      <td>treatment</td>\n",
       "    </tr>\n",
       "    <tr>\n",
       "      <th>177</th>\n",
       "      <td>MS-MOSSERI-III-00085-00001</td>\n",
       "      <td>pharmacopoeia</td>\n",
       "      <td>treatment</td>\n",
       "    </tr>\n",
       "    <tr>\n",
       "      <th>1498</th>\n",
       "      <td>MS-TS-AR-00039-00020</td>\n",
       "      <td>pharmacopoeia</td>\n",
       "      <td>treatment</td>\n",
       "    </tr>\n",
       "    <tr>\n",
       "      <th>1730</th>\n",
       "      <td>MS-TS-AR-00039-00091</td>\n",
       "      <td>pharmacopoeia</td>\n",
       "      <td>treatment</td>\n",
       "    </tr>\n",
       "    <tr>\n",
       "      <th>3411</th>\n",
       "      <td>MS-TS-AR-00039-00462</td>\n",
       "      <td>pharmacopoeia</td>\n",
       "      <td>treatment</td>\n",
       "    </tr>\n",
       "  </tbody>\n",
       "</table>\n",
       "</div>"
      ],
      "text/plain": [
       "                       classmark          token       type\n",
       "0        MS-OR-01080-00001-00063  pharmacopoeia  treatment\n",
       "177   MS-MOSSERI-III-00085-00001  pharmacopoeia  treatment\n",
       "1498        MS-TS-AR-00039-00020  pharmacopoeia  treatment\n",
       "1730        MS-TS-AR-00039-00091  pharmacopoeia  treatment\n",
       "3411        MS-TS-AR-00039-00462  pharmacopoeia  treatment"
      ]
     },
     "execution_count": 5,
     "metadata": {},
     "output_type": "execute_result"
    }
   ],
   "source": [
    "fragment_tokens = pd.merge(fragment_tokens, token_types, \n",
    "                  left_on='token', right_index=True,\n",
    "                  sort=False, validate='m:1')\n",
    "fragment_tokens.head()"
   ]
  },
  {
   "cell_type": "code",
   "execution_count": 6,
   "metadata": {},
   "outputs": [
    {
     "data": {
      "text/plain": [
       "(8348, 3)"
      ]
     },
     "execution_count": 6,
     "metadata": {},
     "output_type": "execute_result"
    }
   ],
   "source": [
    "fragment_tokens.shape"
   ]
  },
  {
   "cell_type": "code",
   "execution_count": 7,
   "metadata": {},
   "outputs": [
    {
     "data": {
      "text/html": [
       "<div>\n",
       "<style scoped>\n",
       "    .dataframe tbody tr th:only-of-type {\n",
       "        vertical-align: middle;\n",
       "    }\n",
       "\n",
       "    .dataframe tbody tr th {\n",
       "        vertical-align: top;\n",
       "    }\n",
       "\n",
       "    .dataframe thead th {\n",
       "        text-align: right;\n",
       "    }\n",
       "</style>\n",
       "<table border=\"1\" class=\"dataframe\">\n",
       "  <thead>\n",
       "    <tr style=\"text-align: right;\">\n",
       "      <th></th>\n",
       "      <th>classmark</th>\n",
       "      <th>columns</th>\n",
       "      <th>date_end</th>\n",
       "      <th>date_start</th>\n",
       "      <th>height</th>\n",
       "      <th>lines</th>\n",
       "      <th>material</th>\n",
       "      <th>summary</th>\n",
       "      <th>title</th>\n",
       "      <th>width</th>\n",
       "    </tr>\n",
       "  </thead>\n",
       "  <tbody>\n",
       "    <tr>\n",
       "      <th>0</th>\n",
       "      <td>MS-OR-01080-00001-00063</td>\n",
       "      <td>1.0</td>\n",
       "      <td>1899-12-31</td>\n",
       "      <td>0500-01-01</td>\n",
       "      <td>21.2</td>\n",
       "      <td>21.0</td>\n",
       "      <td>paper</td>\n",
       "      <td>Pharmacopoeia, containing diagrams and symbols...</td>\n",
       "      <td>Medical</td>\n",
       "      <td>14.3</td>\n",
       "    </tr>\n",
       "    <tr>\n",
       "      <th>1</th>\n",
       "      <td>MS-OR-01080-00001-00072</td>\n",
       "      <td>1.0</td>\n",
       "      <td>1899-12-31</td>\n",
       "      <td>0500-01-01</td>\n",
       "      <td>36.4</td>\n",
       "      <td>22.0</td>\n",
       "      <td>vellum</td>\n",
       "      <td>Discussion of various medical treatments, regi...</td>\n",
       "      <td>Medical</td>\n",
       "      <td>16.8</td>\n",
       "    </tr>\n",
       "    <tr>\n",
       "      <th>2</th>\n",
       "      <td>MS-OR-01080-00001-00081</td>\n",
       "      <td>1.0</td>\n",
       "      <td>1899-12-31</td>\n",
       "      <td>0500-01-01</td>\n",
       "      <td>25.4</td>\n",
       "      <td>12.0</td>\n",
       "      <td>paper</td>\n",
       "      <td>Medical work on the composition of the body, c...</td>\n",
       "      <td>Medical</td>\n",
       "      <td>16.8</td>\n",
       "    </tr>\n",
       "    <tr>\n",
       "      <th>3</th>\n",
       "      <td>MS-OR-01080-00001-00087</td>\n",
       "      <td>1.0</td>\n",
       "      <td>1233-12-31</td>\n",
       "      <td>1213-01-01</td>\n",
       "      <td>NaN</td>\n",
       "      <td>5.0</td>\n",
       "      <td>paper</td>\n",
       "      <td>Recto: a short medical recipe. Verso: a respon...</td>\n",
       "      <td>Medical</td>\n",
       "      <td>NaN</td>\n",
       "    </tr>\n",
       "    <tr>\n",
       "      <th>4</th>\n",
       "      <td>MS-OR-01080-00002-00070</td>\n",
       "      <td>1.0</td>\n",
       "      <td>1199-12-31</td>\n",
       "      <td>1100-01-01</td>\n",
       "      <td>31.5</td>\n",
       "      <td>35.0</td>\n",
       "      <td>paper</td>\n",
       "      <td>Autograph draft of a medical work by Moses Mai...</td>\n",
       "      <td>Medical</td>\n",
       "      <td>22.8</td>\n",
       "    </tr>\n",
       "  </tbody>\n",
       "</table>\n",
       "</div>"
      ],
      "text/plain": [
       "                 classmark  columns    date_end  date_start  height  lines  \\\n",
       "0  MS-OR-01080-00001-00063      1.0  1899-12-31  0500-01-01    21.2   21.0   \n",
       "1  MS-OR-01080-00001-00072      1.0  1899-12-31  0500-01-01    36.4   22.0   \n",
       "2  MS-OR-01080-00001-00081      1.0  1899-12-31  0500-01-01    25.4   12.0   \n",
       "3  MS-OR-01080-00001-00087      1.0  1233-12-31  1213-01-01     NaN    5.0   \n",
       "4  MS-OR-01080-00002-00070      1.0  1199-12-31  1100-01-01    31.5   35.0   \n",
       "\n",
       "  material                                            summary    title  width  \n",
       "0    paper  Pharmacopoeia, containing diagrams and symbols...  Medical   14.3  \n",
       "1   vellum  Discussion of various medical treatments, regi...  Medical   16.8  \n",
       "2    paper  Medical work on the composition of the body, c...  Medical   16.8  \n",
       "3    paper  Recto: a short medical recipe. Verso: a respon...  Medical    NaN  \n",
       "4    paper  Autograph draft of a medical work by Moses Mai...  Medical   22.8  "
      ]
     },
     "execution_count": 7,
     "metadata": {},
     "output_type": "execute_result"
    }
   ],
   "source": [
    "fragments = pd.read_json('../medical-data/genizah-medical.json', orient='index')\n",
    "fragments.index.name = 'classmark'\n",
    "fragments = fragments.reset_index()\n",
    "fragments.head()"
   ]
  },
  {
   "cell_type": "code",
   "execution_count": 8,
   "metadata": {},
   "outputs": [
    {
     "data": {
      "text/plain": [
       "(1565, 10)"
      ]
     },
     "execution_count": 8,
     "metadata": {},
     "output_type": "execute_result"
    }
   ],
   "source": [
    "fragments.shape"
   ]
  },
  {
   "cell_type": "markdown",
   "metadata": {},
   "source": [
    "## Fragment Materials"
   ]
  },
  {
   "cell_type": "code",
   "execution_count": 9,
   "metadata": {},
   "outputs": [
    {
     "data": {
      "text/html": [
       "<div>\n",
       "<style scoped>\n",
       "    .dataframe tbody tr th:only-of-type {\n",
       "        vertical-align: middle;\n",
       "    }\n",
       "\n",
       "    .dataframe tbody tr th {\n",
       "        vertical-align: top;\n",
       "    }\n",
       "\n",
       "    .dataframe thead th {\n",
       "        text-align: right;\n",
       "    }\n",
       "</style>\n",
       "<table border=\"1\" class=\"dataframe\">\n",
       "  <thead>\n",
       "    <tr style=\"text-align: right;\">\n",
       "      <th></th>\n",
       "      <th>material</th>\n",
       "      <th>count</th>\n",
       "    </tr>\n",
       "  </thead>\n",
       "  <tbody>\n",
       "    <tr>\n",
       "      <th>0</th>\n",
       "      <td>cardboard</td>\n",
       "      <td>1</td>\n",
       "    </tr>\n",
       "    <tr>\n",
       "      <th>1</th>\n",
       "      <td>cloth</td>\n",
       "      <td>2</td>\n",
       "    </tr>\n",
       "    <tr>\n",
       "      <th>2</th>\n",
       "      <td>paper</td>\n",
       "      <td>1490</td>\n",
       "    </tr>\n",
       "    <tr>\n",
       "      <th>3</th>\n",
       "      <td>vellum</td>\n",
       "      <td>71</td>\n",
       "    </tr>\n",
       "  </tbody>\n",
       "</table>\n",
       "</div>"
      ],
      "text/plain": [
       "    material  count\n",
       "0  cardboard      1\n",
       "1      cloth      2\n",
       "2      paper   1490\n",
       "3     vellum     71"
      ]
     },
     "execution_count": 9,
     "metadata": {},
     "output_type": "execute_result"
    }
   ],
   "source": [
    "material_counts = (pd.DataFrame(fragments.groupby('material').size(), columns=['count'])\n",
    "    .reset_index())\n",
    "material_counts"
   ]
  },
  {
   "cell_type": "code",
   "execution_count": 10,
   "metadata": {},
   "outputs": [
    {
     "data": {
      "application/vnd.vegalite.v2+json": {
       "$schema": "https://vega.github.io/schema/vega-lite/v2.4.3.json",
       "config": {
        "view": {
         "height": 300,
         "width": 400
        }
       },
       "data": {
        "format": {
         "type": "json"
        },
        "url": "altair-data-6dfb34a9f188cc8a8c8a419039dbb8ee.json"
       },
       "encoding": {
        "tooltip": {
         "field": "count",
         "type": "quantitative"
        },
        "x": {
         "field": "material",
         "type": "nominal"
        },
        "y": {
         "field": "count",
         "scale": {
          "exponent": 0.5,
          "type": "pow"
         },
         "type": "quantitative"
        }
       },
       "mark": "bar"
      },
      "image/png": "[encoded data removed]",
      "text/plain": [
       "<VegaLite 2 object>\n",
       "\n",
       "If you see this message, it means the renderer has not been properly enabled\n",
       "for the frontend that you are using. For more information, see\n",
       "https://altair-viz.github.io/user_guide/troubleshooting.html\n"
      ]
     },
     "execution_count": 10,
     "metadata": {},
     "output_type": "execute_result"
    }
   ],
   "source": [
    "alt.Chart(material_counts).mark_bar().encode(\n",
    "    alt.X('material:N'),\n",
    "    y=alt.Y('count:Q', scale=alt.Scale(type='pow', exponent=0.5)),\n",
    "    tooltip='count'\n",
    ")"
   ]
  },
  {
   "cell_type": "markdown",
   "metadata": {},
   "source": [
    "## Fragment Sizes"
   ]
  },
  {
   "cell_type": "code",
   "execution_count": 11,
   "metadata": {},
   "outputs": [
    {
     "data": {
      "application/vnd.vegalite.v2+json": {
       "$schema": "https://vega.github.io/schema/vega-lite/v2.4.3.json",
       "config": {
        "view": {
         "height": 300,
         "width": 400
        }
       },
       "data": {
        "format": {
         "type": "json"
        },
        "url": "altair-data-29fde87e845bbfff16dfd710bf1ee0a2.json"
       },
       "encoding": {
        "size": {
         "aggregate": "count",
         "type": "quantitative"
        },
        "x": {
         "bin": true,
         "field": "width",
         "type": "quantitative"
        },
        "y": {
         "bin": true,
         "field": "height",
         "type": "quantitative"
        }
       },
       "mark": "circle"
      },
      "image/png": "[encoded data removed]",
      "text/plain": [
       "<VegaLite 2 object>\n",
       "\n",
       "If you see this message, it means the renderer has not been properly enabled\n",
       "for the frontend that you are using. For more information, see\n",
       "https://altair-viz.github.io/user_guide/troubleshooting.html\n"
      ]
     },
     "execution_count": 11,
     "metadata": {},
     "output_type": "execute_result"
    }
   ],
   "source": [
    "alt.Chart(fragments).mark_circle().encode(\n",
    "    alt.X('width:Q', bin=True),\n",
    "    alt.Y('height:Q', bin=True),\n",
    "    size='count()'\n",
    ")"
   ]
  },
  {
   "cell_type": "code",
   "execution_count": 12,
   "metadata": {},
   "outputs": [
    {
     "data": {
      "application/vnd.vegalite.v2+json": {
       "$schema": "https://vega.github.io/schema/vega-lite/v2.4.3.json",
       "config": {
        "view": {
         "height": 300,
         "width": 400
        }
       },
       "data": {
        "format": {
         "type": "json"
        },
        "url": "altair-data-29fde87e845bbfff16dfd710bf1ee0a2.json"
       },
       "encoding": {
        "color": {
         "bin": false,
         "field": "lines",
         "scale": {
          "scheme": "viridis"
         },
         "type": "quantitative"
        },
        "tooltip": {
         "field": "classmark",
         "type": "nominal"
        },
        "x": {
         "field": "width",
         "type": "quantitative"
        },
        "y": {
         "field": "height",
         "type": "quantitative"
        }
       },
       "mark": "circle",
       "selection": {
        "selector001": {
         "bind": "scales",
         "encodings": [
          "x",
          "y"
         ],
         "mark": {
          "fill": "#333",
          "fillOpacity": 0.125,
          "stroke": "white"
         },
         "on": "[mousedown, window:mouseup] > window:mousemove!",
         "resolve": "global",
         "translate": "[mousedown, window:mouseup] > window:mousemove!",
         "type": "interval",
         "zoom": "wheel!"
        }
       }
      },
      "image/png": "[encoded data removed]",
      "text/plain": [
       "<VegaLite 2 object>\n",
       "\n",
       "If you see this message, it means the renderer has not been properly enabled\n",
       "for the frontend that you are using. For more information, see\n",
       "https://altair-viz.github.io/user_guide/troubleshooting.html\n"
      ]
     },
     "execution_count": 12,
     "metadata": {},
     "output_type": "execute_result"
    }
   ],
   "source": [
    "alt.Chart(fragments).mark_circle().encode(\n",
    "    alt.X('width:Q'),\n",
    "    alt.Y('height:Q'),\n",
    "    color=alt.Color('lines:Q', bin=False, scale=alt.Scale(scheme='viridis')),\n",
    "    tooltip='classmark'\n",
    ").interactive()"
   ]
  },
  {
   "cell_type": "markdown",
   "metadata": {},
   "source": [
    "## Tokens"
   ]
  },
  {
   "cell_type": "markdown",
   "metadata": {},
   "source": [
    "### Token Types"
   ]
  },
  {
   "cell_type": "code",
   "execution_count": 13,
   "metadata": {},
   "outputs": [
    {
     "data": {
      "text/html": [
       "<div>\n",
       "<style scoped>\n",
       "    .dataframe tbody tr th:only-of-type {\n",
       "        vertical-align: middle;\n",
       "    }\n",
       "\n",
       "    .dataframe tbody tr th {\n",
       "        vertical-align: top;\n",
       "    }\n",
       "\n",
       "    .dataframe thead th {\n",
       "        text-align: right;\n",
       "    }\n",
       "</style>\n",
       "<table border=\"1\" class=\"dataframe\">\n",
       "  <thead>\n",
       "    <tr style=\"text-align: right;\">\n",
       "      <th></th>\n",
       "      <th>classmark</th>\n",
       "      <th>token</th>\n",
       "      <th>type</th>\n",
       "    </tr>\n",
       "  </thead>\n",
       "  <tbody>\n",
       "    <tr>\n",
       "      <th>0</th>\n",
       "      <td>MS-OR-01080-00001-00063</td>\n",
       "      <td>pharmacopoeia</td>\n",
       "      <td>treatment</td>\n",
       "    </tr>\n",
       "    <tr>\n",
       "      <th>177</th>\n",
       "      <td>MS-MOSSERI-III-00085-00001</td>\n",
       "      <td>pharmacopoeia</td>\n",
       "      <td>treatment</td>\n",
       "    </tr>\n",
       "    <tr>\n",
       "      <th>1498</th>\n",
       "      <td>MS-TS-AR-00039-00020</td>\n",
       "      <td>pharmacopoeia</td>\n",
       "      <td>treatment</td>\n",
       "    </tr>\n",
       "    <tr>\n",
       "      <th>1730</th>\n",
       "      <td>MS-TS-AR-00039-00091</td>\n",
       "      <td>pharmacopoeia</td>\n",
       "      <td>treatment</td>\n",
       "    </tr>\n",
       "    <tr>\n",
       "      <th>3411</th>\n",
       "      <td>MS-TS-AR-00039-00462</td>\n",
       "      <td>pharmacopoeia</td>\n",
       "      <td>treatment</td>\n",
       "    </tr>\n",
       "  </tbody>\n",
       "</table>\n",
       "</div>"
      ],
      "text/plain": [
       "                       classmark          token       type\n",
       "0        MS-OR-01080-00001-00063  pharmacopoeia  treatment\n",
       "177   MS-MOSSERI-III-00085-00001  pharmacopoeia  treatment\n",
       "1498        MS-TS-AR-00039-00020  pharmacopoeia  treatment\n",
       "1730        MS-TS-AR-00039-00091  pharmacopoeia  treatment\n",
       "3411        MS-TS-AR-00039-00462  pharmacopoeia  treatment"
      ]
     },
     "execution_count": 13,
     "metadata": {},
     "output_type": "execute_result"
    }
   ],
   "source": [
    "fragment_tokens.head()"
   ]
  },
  {
   "cell_type": "code",
   "execution_count": 14,
   "metadata": {},
   "outputs": [
    {
     "data": {
      "text/html": [
       "<div>\n",
       "<style scoped>\n",
       "    .dataframe tbody tr th:only-of-type {\n",
       "        vertical-align: middle;\n",
       "    }\n",
       "\n",
       "    .dataframe tbody tr th {\n",
       "        vertical-align: top;\n",
       "    }\n",
       "\n",
       "    .dataframe thead th {\n",
       "        text-align: right;\n",
       "    }\n",
       "</style>\n",
       "<table border=\"1\" class=\"dataframe\">\n",
       "  <thead>\n",
       "    <tr style=\"text-align: right;\">\n",
       "      <th></th>\n",
       "      <th>count</th>\n",
       "      <th>count_type</th>\n",
       "    </tr>\n",
       "    <tr>\n",
       "      <th>type</th>\n",
       "      <th></th>\n",
       "      <th></th>\n",
       "    </tr>\n",
       "  </thead>\n",
       "  <tbody>\n",
       "    <tr>\n",
       "      <th>ailment</th>\n",
       "      <td>402</td>\n",
       "      <td>tokens</td>\n",
       "    </tr>\n",
       "    <tr>\n",
       "      <th>authority</th>\n",
       "      <td>48</td>\n",
       "      <td>tokens</td>\n",
       "    </tr>\n",
       "    <tr>\n",
       "      <th>body_part</th>\n",
       "      <td>185</td>\n",
       "      <td>tokens</td>\n",
       "    </tr>\n",
       "    <tr>\n",
       "      <th>ingredient</th>\n",
       "      <td>469</td>\n",
       "      <td>tokens</td>\n",
       "    </tr>\n",
       "    <tr>\n",
       "      <th>treatment</th>\n",
       "      <td>211</td>\n",
       "      <td>tokens</td>\n",
       "    </tr>\n",
       "    <tr>\n",
       "      <th>ailment</th>\n",
       "      <td>799</td>\n",
       "      <td>fragments</td>\n",
       "    </tr>\n",
       "    <tr>\n",
       "      <th>authority</th>\n",
       "      <td>329</td>\n",
       "      <td>fragments</td>\n",
       "    </tr>\n",
       "    <tr>\n",
       "      <th>body_part</th>\n",
       "      <td>724</td>\n",
       "      <td>fragments</td>\n",
       "    </tr>\n",
       "    <tr>\n",
       "      <th>ingredient</th>\n",
       "      <td>564</td>\n",
       "      <td>fragments</td>\n",
       "    </tr>\n",
       "    <tr>\n",
       "      <th>treatment</th>\n",
       "      <td>987</td>\n",
       "      <td>fragments</td>\n",
       "    </tr>\n",
       "  </tbody>\n",
       "</table>\n",
       "</div>"
      ],
      "text/plain": [
       "            count count_type\n",
       "type                        \n",
       "ailment       402     tokens\n",
       "authority      48     tokens\n",
       "body_part     185     tokens\n",
       "ingredient    469     tokens\n",
       "treatment     211     tokens\n",
       "ailment       799  fragments\n",
       "authority     329  fragments\n",
       "body_part     724  fragments\n",
       "ingredient    564  fragments\n",
       "treatment     987  fragments"
      ]
     },
     "execution_count": 14,
     "metadata": {},
     "output_type": "execute_result"
    }
   ],
   "source": [
    "tokens_per_type = (fragment_tokens[['type', 'token']].drop_duplicates()\n",
    "    .groupby(['type'])\n",
    "    .count())\n",
    "fragments_per_type = (fragment_tokens[['type', 'classmark']].drop_duplicates()\n",
    "    .groupby(['type'])\n",
    "    .count())\n",
    "\n",
    "for df in [tokens_per_type, fragments_per_type]:\n",
    "    df.rename(columns=lambda c: 'count', inplace=True)\n",
    "\n",
    "tokens_per_type['count_type'] = 'tokens'\n",
    "fragments_per_type['count_type'] = 'fragments'\n",
    "\n",
    "token_type_counts = (pd.concat([tokens_per_type, fragments_per_type], sort=False))\n",
    "token_type_counts"
   ]
  },
  {
   "cell_type": "code",
   "execution_count": 15,
   "metadata": {},
   "outputs": [
    {
     "data": {
      "application/vnd.vegalite.v2+json": {
       "$schema": "https://vega.github.io/schema/vega-lite/v2.4.3.json",
       "config": {
        "view": {
         "height": 300,
         "width": 400
        }
       },
       "data": {
        "format": {
         "type": "json"
        },
        "url": "altair-data-92f095af5733ef3b51d8176a3eb46671.json"
       },
       "encoding": {
        "color": {
         "field": "count_type",
         "scale": {
          "range": [
           "#FFD330",
           "#1282CC"
          ]
         },
         "type": "nominal"
        },
        "column": {
         "field": "type",
         "title": "Token type",
         "type": "nominal"
        },
        "x": {
         "axis": {
          "title": null
         },
         "field": "count_type",
         "type": "nominal"
        },
        "y": {
         "axis": {
          "title": "Count"
         },
         "field": "count",
         "type": "quantitative"
        }
       },
       "mark": "bar",
       "title": "Counts by token type"
      },
      "image/png": "[encoded data removed]",
      "text/plain": [
       "<VegaLite 2 object>\n",
       "\n",
       "If you see this message, it means the renderer has not been properly enabled\n",
       "for the frontend that you are using. For more information, see\n",
       "https://altair-viz.github.io/user_guide/troubleshooting.html\n"
      ]
     },
     "execution_count": 15,
     "metadata": {},
     "output_type": "execute_result"
    }
   ],
   "source": [
    "(alt.Chart(token_type_counts.reset_index(), title='Counts by token type')\n",
    "  .mark_bar()\n",
    "  .encode(\n",
    "    alt.Y('count:Q', axis=alt.Axis(title='Count')),\n",
    "    alt.X('count_type:N', axis=alt.Axis(title=None)),\n",
    "    column=alt.Column('type:N', title='Token type'),\n",
    "    color=alt.Color('count_type:N', \n",
    "                    scale=alt.Scale(range=[\"#FFD330\", \"#1282CC\"]))\n",
    "))"
   ]
  },
  {
   "cell_type": "code",
   "execution_count": 16,
   "metadata": {},
   "outputs": [],
   "source": [
    "def display_values(field=None, mapping=None, display_field_name=None):\n",
    "    if display_field_name is None:\n",
    "        display_field_name = f'{field}_display'\n",
    "    \n",
    "    lookup_frame = pd.DataFrame.from_records(list(mapping.items()), columns=[field, display_field_name])\n",
    "    return alt.LookupData(data=lookup_frame, key=field, fields=[display_field_name])"
   ]
  },
  {
   "cell_type": "code",
   "execution_count": 17,
   "metadata": {},
   "outputs": [],
   "source": [
    "type_display_tx = display_values('type', {\n",
    "    'ailment': 'Ailment',\n",
    "    'authority': 'Authority',\n",
    "    'body_part': 'Body part',\n",
    "    'ingredient': 'Ingredient',\n",
    "    'treatment': 'Treatment'\n",
    "})\n",
    "count_type_display_tx = display_values('count_type', {\n",
    "    'fragments': 'Fragments',\n",
    "    'tokens': 'Tokens'\n",
    "})"
   ]
  },
  {
   "cell_type": "code",
   "execution_count": 18,
   "metadata": {},
   "outputs": [
    {
     "data": {
      "application/vnd.vegalite.v2+json": {
       "$schema": "https://vega.github.io/schema/vega-lite/v2.4.3.json",
       "config": {
        "view": {
         "height": 300,
         "width": 400
        }
       },
       "data": {
        "format": {
         "type": "json"
        },
        "url": "altair-data-92f095af5733ef3b51d8176a3eb46671.json"
       },
       "encoding": {
        "color": {
         "field": "type_display",
         "title": "Category",
         "type": "nominal"
        },
        "tooltip": [
         {
          "field": "count",
          "type": "quantitative"
         }
        ],
        "x": {
         "axis": {
          "format": "%",
          "title": "Count"
         },
         "field": "count",
         "stack": "normalize",
         "type": "quantitative"
        },
        "y": {
         "axis": {
          "title": null
         },
         "field": "count_type_display",
         "type": "nominal"
        }
       },
       "mark": "bar",
       "title": "Category spread amongst fragments and tokens",
       "transform": [
        {
         "from": {
          "data": {
           "format": {
            "type": "json"
           },
           "url": "altair-data-d32954b3094189bc656919d404cecdd7.json"
          },
          "fields": [
           "type_display"
          ],
          "key": "type"
         },
         "lookup": "type"
        },
        {
         "from": {
          "data": {
           "format": {
            "type": "json"
           },
           "url": "altair-data-85841eea295cd5887a3d30404b3bd222.json"
          },
          "fields": [
           "count_type_display"
          ],
          "key": "count_type"
         },
         "lookup": "count_type"
        }
       ]
      },
      "image/png": "[encoded data removed]",
      "text/plain": [
       "<VegaLite 2 object>\n",
       "\n",
       "If you see this message, it means the renderer has not been properly enabled\n",
       "for the frontend that you are using. For more information, see\n",
       "https://altair-viz.github.io/user_guide/troubleshooting.html\n"
      ]
     },
     "execution_count": 18,
     "metadata": {},
     "output_type": "execute_result"
    }
   ],
   "source": [
    "(alt.Chart(token_type_counts.reset_index(), title='Category spread amongst fragments and tokens')\n",
    "  .mark_bar()\n",
    "  .encode(\n",
    "    alt.X('count:Q', axis=alt.Axis(title='Count', format='%'), stack='normalize'),\n",
    "    alt.Y('count_type_display:N', axis=alt.Axis(title=None)),\n",
    "    color=alt.Color('type_display:N', title='Category'),\n",
    "    tooltip=['count:Q']\n",
    "  )\n",
    "  .transform_lookup(lookup='type', from_=type_display_tx)\n",
    "  .transform_lookup(lookup='count_type', from_=count_type_display_tx))"
   ]
  },
  {
   "cell_type": "markdown",
   "metadata": {},
   "source": [
    "## Token usage frequency"
   ]
  },
  {
   "cell_type": "code",
   "execution_count": 19,
   "metadata": {},
   "outputs": [
    {
     "data": {
      "text/html": [
       "<div>\n",
       "<style scoped>\n",
       "    .dataframe tbody tr th:only-of-type {\n",
       "        vertical-align: middle;\n",
       "    }\n",
       "\n",
       "    .dataframe tbody tr th {\n",
       "        vertical-align: top;\n",
       "    }\n",
       "\n",
       "    .dataframe thead th {\n",
       "        text-align: right;\n",
       "    }\n",
       "</style>\n",
       "<table border=\"1\" class=\"dataframe\">\n",
       "  <thead>\n",
       "    <tr style=\"text-align: right;\">\n",
       "      <th></th>\n",
       "      <th>count</th>\n",
       "      <th>type</th>\n",
       "    </tr>\n",
       "    <tr>\n",
       "      <th>token</th>\n",
       "      <th></th>\n",
       "      <th></th>\n",
       "    </tr>\n",
       "  </thead>\n",
       "  <tbody>\n",
       "    <tr>\n",
       "      <th>treatment</th>\n",
       "      <td>209</td>\n",
       "      <td>treatment</td>\n",
       "    </tr>\n",
       "    <tr>\n",
       "      <th>simple</th>\n",
       "      <td>180</td>\n",
       "      <td>ingredient</td>\n",
       "    </tr>\n",
       "    <tr>\n",
       "      <th>eye</th>\n",
       "      <td>155</td>\n",
       "      <td>body_part</td>\n",
       "    </tr>\n",
       "    <tr>\n",
       "      <th>medicine</th>\n",
       "      <td>150</td>\n",
       "      <td>treatment</td>\n",
       "    </tr>\n",
       "    <tr>\n",
       "      <th>disease</th>\n",
       "      <td>142</td>\n",
       "      <td>ailment</td>\n",
       "    </tr>\n",
       "  </tbody>\n",
       "</table>\n",
       "</div>"
      ],
      "text/plain": [
       "           count        type\n",
       "token                       \n",
       "treatment    209   treatment\n",
       "simple       180  ingredient\n",
       "eye          155   body_part\n",
       "medicine     150   treatment\n",
       "disease      142     ailment"
      ]
     },
     "execution_count": 19,
     "metadata": {},
     "output_type": "execute_result"
    }
   ],
   "source": [
    "fragments_per_token = (pd.DataFrame(fragment_tokens.groupby('token').size(), \n",
    "                                    columns=['count']))\n",
    "fragments_per_token = fragments_per_token.merge(token_types, left_index=True, right_index=True)\n",
    "fragments_per_token.sort_values(by='count', ascending=False).head()"
   ]
  },
  {
   "cell_type": "code",
   "execution_count": 20,
   "metadata": {},
   "outputs": [
    {
     "data": {
      "application/vnd.vegalite.v2+json": {
       "$schema": "https://vega.github.io/schema/vega-lite/v2.4.3.json",
       "config": {
        "view": {
         "height": 300,
         "width": 400
        }
       },
       "data": {
        "format": {
         "type": "json"
        },
        "url": "altair-data-c5535744356d581da85ba4effaa9bc34.json"
       },
       "encoding": {
        "x": {
         "field": "count",
         "title": "Frequency",
         "type": "quantitative"
        },
        "y": {
         "field": "type_display",
         "title": "Token category",
         "type": "nominal"
        }
       },
       "mark": "tick",
       "title": "Frequency of token occurance in fragments",
       "transform": [
        {
         "from": {
          "data": {
           "format": {
            "type": "json"
           },
           "url": "altair-data-d32954b3094189bc656919d404cecdd7.json"
          },
          "fields": [
           "type_display"
          ],
          "key": "type"
         },
         "lookup": "type"
        }
       ]
      },
      "image/png": "[encoded data removed]",
      "text/plain": [
       "<VegaLite 2 object>\n",
       "\n",
       "If you see this message, it means the renderer has not been properly enabled\n",
       "for the frontend that you are using. For more information, see\n",
       "https://altair-viz.github.io/user_guide/troubleshooting.html\n"
      ]
     },
     "execution_count": 20,
     "metadata": {},
     "output_type": "execute_result"
    }
   ],
   "source": [
    "(alt.Chart(fragments_per_token, title='Frequency of token occurance in fragments')\n",
    "  .mark_tick()\n",
    "  .encode(\n",
    "      alt.X('count:Q', title='Frequency'),\n",
    "      alt.Y('type_display:N', title='Token category')\n",
    "  )\n",
    "  .transform_lookup(lookup='type', from_=type_display_tx)\n",
    ")"
   ]
  },
  {
   "cell_type": "code",
   "execution_count": 21,
   "metadata": {},
   "outputs": [
    {
     "data": {
      "text/plain": [
       "{'config': {'view': {'width': 400, 'height': 300}},\n",
       " 'data': {'url': 'altair-data-c5535744356d581da85ba4effaa9bc34.json',\n",
       "  'format': {'type': 'json'}},\n",
       " 'mark': 'tick',\n",
       " 'encoding': {'x': {'type': 'quantitative',\n",
       "   'field': 'count',\n",
       "   'title': 'Frequency'},\n",
       "  'y': {'type': 'nominal',\n",
       "   'field': 'type_display',\n",
       "   'title': 'Token category'}},\n",
       " 'title': 'Frequency of token occurance in fragments',\n",
       " 'transform': [{'lookup': 'type',\n",
       "   'from': {'data': {'url': 'altair-data-d32954b3094189bc656919d404cecdd7.json',\n",
       "     'format': {'type': 'json'}},\n",
       "    'key': 'type',\n",
       "    'fields': ['type_display']}}],\n",
       " '$schema': 'https://vega.github.io/schema/vega-lite/v2.4.3.json'}"
      ]
     },
     "execution_count": 21,
     "metadata": {},
     "output_type": "execute_result"
    }
   ],
   "source": [
    "vl_json = (alt.Chart(fragments_per_token, title='Frequency of token occurance in fragments')\n",
    "  .mark_tick()\n",
    "  .encode(\n",
    "      alt.X('count:Q', title='Frequency'),\n",
    "      alt.Y('type_display:N', title='Token category')\n",
    "  )\n",
    "  .transform_lookup(lookup='type', from_=type_display_tx)\n",
    ").to_dict()\n",
    "vl_json"
   ]
  },
  {
   "cell_type": "code",
   "execution_count": 22,
   "metadata": {},
   "outputs": [],
   "source": [
    "import altair.vega.v3\n",
    "import altair.vega.v2"
   ]
  },
  {
   "cell_type": "code",
   "execution_count": 25,
   "metadata": {},
   "outputs": [
    {
     "data": {
      "application/vnd.vega.v3+json": {
       "$schema": "https://vega.github.io/schema/vega/v4.json",
       "data": [
        {
         "name": "table",
         "transform": [
          {
           "case": "upper",
           "field": "data",
           "pattern": "[\\w']{3,}",
           "stopwords": "(i|me|my|myself|we|us|our|ours|ourselves|you|your|yours|yourself|yourselves|he|him|his|himself|she|her|hers|herself|it|its|itself|they|them|their|theirs|themselves|what|which|who|whom|whose|this|that|these|those|am|is|are|was|were|be|been|being|have|has|had|having|do|does|did|doing|will|would|should|can|could|ought|i'm|you're|he's|she's|it's|we're|they're|i've|you've|we've|they've|i'd|you'd|he'd|she'd|we'd|they'd|i'll|you'll|he'll|she'll|we'll|they'll|isn't|aren't|wasn't|weren't|hasn't|haven't|hadn't|doesn't|don't|didn't|won't|wouldn't|shan't|shouldn't|can't|cannot|couldn't|mustn't|let's|that's|who's|what's|here's|there's|when's|where's|why's|how's|a|an|the|and|but|if|or|because|as|until|while|of|at|by|for|with|about|against|between|into|through|during|before|after|above|below|to|from|up|upon|down|in|out|on|off|over|under|again|further|then|once|here|there|when|where|why|how|all|any|both|each|few|more|most|other|some|such|no|nor|not|only|own|same|so|than|too|very|say|says|said|shall)",
           "type": "countpattern"
          },
          {
           "as": "angle",
           "expr": "[-45, 0, 45][~~(random() * 3)]",
           "type": "formula"
          },
          {
           "as": "weight",
           "expr": "if(datum.text=='VEGA', 600, 300)",
           "type": "formula"
          }
         ],
         "values": [
          "Declarative visualization grammars can accelerate development, facilitate retargeting across platforms, and allow language-level optimizations. However, existing declarative visualization languages are primarily concerned with visual encoding, and rely on imperative event handlers for interactive behaviors. In response, we introduce a model of declarative interaction design for data visualizations. Adopting methods from reactive programming, we model low-level events as composable data streams from which we form higher-level semantic signals. Signals feed predicates and scale inversions, which allow us to generalize interactive selections at the level of item geometry (pixels) into interactive queries over the data domain. Production rules then use these queries to manipulate the visualization’s appearance. To facilitate reuse and sharing, these constructs can be encapsulated as named interactors: standalone, purely declarative specifications of interaction techniques. We assess our model’s feasibility and expressivity by instantiating it with extensions to the Vega visualization grammar. Through a diverse range of examples, we demonstrate coverage over an established taxonomy of visualization interaction techniques.",
          "We present Reactive Vega, a system architecture that provides the first robust and comprehensive treatment of declarative visual and interaction design for data visualization. Starting from a single declarative specification, Reactive Vega constructs a dataflow graph in which input data, scene graph elements, and interaction events are all treated as first-class streaming data sources. To support expressive interactive visualizations that may involve time-varying scalar, relational, or hierarchical data, Reactive Vega’s dataflow graph can dynamically re-write itself at runtime by extending or pruning branches in a data-driven fashion. We discuss both compile- and run-time optimizations applied within Reactive Vega, and share the results of benchmark studies that indicate superior interactive performance to both D3 and the original, non-reactive Vega system.",
          "We present Vega-Lite, a high-level grammar that enables rapid specification of interactive data visualizations. Vega-Lite combines a traditional grammar of graphics, providing visual encoding rules and a composition algebra for layered and multi-view displays, with a novel grammar of interaction. Users specify interactive semantics by composing selections. In Vega-Lite, a selection is an abstraction that defines input event processing, points of interest, and a predicate function for inclusion testing. Selections parameterize visual encodings by serving as input data, defining scale extents, or by driving conditional logic. The Vega-Lite compiler automatically synthesizes requisite data flow and event handling logic, which users can override for further customization. In contrast to existing reactive specifications, Vega-Lite selections decompose an interaction design into concise, enumerable semantic units. We evaluate Vega-Lite through a range of examples, demonstrating succinct specification of both customized interaction methods and common techniques such as panning, zooming, and linked selection."
         ]
        }
       ],
       "height": 400,
       "marks": [
        {
         "encode": {
          "enter": {
           "align": {
            "value": "center"
           },
           "baseline": {
            "value": "alphabetic"
           },
           "fill": {
            "field": "text",
            "scale": "color"
           },
           "text": {
            "field": "text"
           }
          },
          "hover": {
           "fillOpacity": {
            "value": 0.5
           }
          },
          "update": {
           "fillOpacity": {
            "value": 1
           }
          }
         },
         "from": {
          "data": "table"
         },
         "transform": [
          {
           "font": "Helvetica Neue, Arial",
           "fontSize": {
            "field": "datum.count"
           },
           "fontSizeRange": [
            12,
            56
           ],
           "fontWeight": {
            "field": "datum.weight"
           },
           "padding": 2,
           "rotate": {
            "field": "datum.angle"
           },
           "size": [
            800,
            400
           ],
           "text": {
            "field": "text"
           },
           "type": "wordcloud"
          }
         ],
         "type": "text"
        }
       ],
       "padding": 0,
       "scales": [
        {
         "name": "color",
         "range": [
          "#d5a928",
          "#652c90",
          "#939597"
         ],
         "type": "ordinal"
        }
       ],
       "width": 800
      },
      "text/plain": [
       "<Vega 3 object>\n",
       "\n",
       "If you see this message, it means the renderer has not been properly enabled\n",
       "for the frontend that you are using. For more information, see\n",
       "https://altair-viz.github.io/user_guide/troubleshooting.html\n"
      ]
     },
     "metadata": {},
     "output_type": "display_data"
    }
   ],
   "source": [
    "vega_wordcloud_json = {\n",
    "  \"$schema\": \"https://vega.github.io/schema/vega/v4.json\",\n",
    "  \"width\": 800,\n",
    "  \"height\": 400,\n",
    "  \"padding\": 0,\n",
    "\n",
    "  \"data\": [\n",
    "    {\n",
    "      \"name\": \"table\",\n",
    "      \"values\": [\n",
    "        \"Declarative visualization grammars can accelerate development, facilitate retargeting across platforms, and allow language-level optimizations. However, existing declarative visualization languages are primarily concerned with visual encoding, and rely on imperative event handlers for interactive behaviors. In response, we introduce a model of declarative interaction design for data visualizations. Adopting methods from reactive programming, we model low-level events as composable data streams from which we form higher-level semantic signals. Signals feed predicates and scale inversions, which allow us to generalize interactive selections at the level of item geometry (pixels) into interactive queries over the data domain. Production rules then use these queries to manipulate the visualization’s appearance. To facilitate reuse and sharing, these constructs can be encapsulated as named interactors: standalone, purely declarative specifications of interaction techniques. We assess our model’s feasibility and expressivity by instantiating it with extensions to the Vega visualization grammar. Through a diverse range of examples, we demonstrate coverage over an established taxonomy of visualization interaction techniques.\",\n",
    "        \"We present Reactive Vega, a system architecture that provides the first robust and comprehensive treatment of declarative visual and interaction design for data visualization. Starting from a single declarative specification, Reactive Vega constructs a dataflow graph in which input data, scene graph elements, and interaction events are all treated as first-class streaming data sources. To support expressive interactive visualizations that may involve time-varying scalar, relational, or hierarchical data, Reactive Vega’s dataflow graph can dynamically re-write itself at runtime by extending or pruning branches in a data-driven fashion. We discuss both compile- and run-time optimizations applied within Reactive Vega, and share the results of benchmark studies that indicate superior interactive performance to both D3 and the original, non-reactive Vega system.\",\n",
    "        \"We present Vega-Lite, a high-level grammar that enables rapid specification of interactive data visualizations. Vega-Lite combines a traditional grammar of graphics, providing visual encoding rules and a composition algebra for layered and multi-view displays, with a novel grammar of interaction. Users specify interactive semantics by composing selections. In Vega-Lite, a selection is an abstraction that defines input event processing, points of interest, and a predicate function for inclusion testing. Selections parameterize visual encodings by serving as input data, defining scale extents, or by driving conditional logic. The Vega-Lite compiler automatically synthesizes requisite data flow and event handling logic, which users can override for further customization. In contrast to existing reactive specifications, Vega-Lite selections decompose an interaction design into concise, enumerable semantic units. We evaluate Vega-Lite through a range of examples, demonstrating succinct specification of both customized interaction methods and common techniques such as panning, zooming, and linked selection.\"\n",
    "      ],\n",
    "      \"transform\": [\n",
    "        {\n",
    "          \"type\": \"countpattern\",\n",
    "          \"field\": \"data\",\n",
    "          \"case\": \"upper\",\n",
    "          \"pattern\": \"[\\\\w']{3,}\",\n",
    "          \"stopwords\": \"(i|me|my|myself|we|us|our|ours|ourselves|you|your|yours|yourself|yourselves|he|him|his|himself|she|her|hers|herself|it|its|itself|they|them|their|theirs|themselves|what|which|who|whom|whose|this|that|these|those|am|is|are|was|were|be|been|being|have|has|had|having|do|does|did|doing|will|would|should|can|could|ought|i'm|you're|he's|she's|it's|we're|they're|i've|you've|we've|they've|i'd|you'd|he'd|she'd|we'd|they'd|i'll|you'll|he'll|she'll|we'll|they'll|isn't|aren't|wasn't|weren't|hasn't|haven't|hadn't|doesn't|don't|didn't|won't|wouldn't|shan't|shouldn't|can't|cannot|couldn't|mustn't|let's|that's|who's|what's|here's|there's|when's|where's|why's|how's|a|an|the|and|but|if|or|because|as|until|while|of|at|by|for|with|about|against|between|into|through|during|before|after|above|below|to|from|up|upon|down|in|out|on|off|over|under|again|further|then|once|here|there|when|where|why|how|all|any|both|each|few|more|most|other|some|such|no|nor|not|only|own|same|so|than|too|very|say|says|said|shall)\"\n",
    "        },\n",
    "        {\n",
    "          \"type\": \"formula\", \"as\": \"angle\",\n",
    "          \"expr\": \"[-45, 0, 45][~~(random() * 3)]\"\n",
    "        },\n",
    "        {\n",
    "          \"type\": \"formula\", \"as\": \"weight\",\n",
    "          \"expr\": \"if(datum.text=='VEGA', 600, 300)\"\n",
    "        }\n",
    "      ]\n",
    "    }\n",
    "  ],\n",
    "\n",
    "  \"scales\": [\n",
    "    {\n",
    "      \"name\": \"color\",\n",
    "      \"type\": \"ordinal\",\n",
    "      \"range\": [\"#d5a928\", \"#652c90\", \"#939597\"]\n",
    "    }\n",
    "  ],\n",
    "\n",
    "  \"marks\": [\n",
    "    {\n",
    "      \"type\": \"text\",\n",
    "      \"from\": {\"data\": \"table\"},\n",
    "      \"encode\": {\n",
    "        \"enter\": {\n",
    "          \"text\": {\"field\": \"text\"},\n",
    "          \"align\": {\"value\": \"center\"},\n",
    "          \"baseline\": {\"value\": \"alphabetic\"},\n",
    "          \"fill\": {\"scale\": \"color\", \"field\": \"text\"}\n",
    "        },\n",
    "        \"update\": {\n",
    "          \"fillOpacity\": {\"value\": 1}\n",
    "        },\n",
    "        \"hover\": {\n",
    "          \"fillOpacity\": {\"value\": 0.5}\n",
    "        }\n",
    "      },\n",
    "      \"transform\": [\n",
    "        {\n",
    "          \"type\": \"wordcloud\",\n",
    "          \"size\": [800, 400],\n",
    "          \"text\": {\"field\": \"text\"},\n",
    "          \"rotate\": {\"field\": \"datum.angle\"},\n",
    "          \"font\": \"Helvetica Neue, Arial\",\n",
    "          \"fontSize\": {\"field\": \"datum.count\"},\n",
    "          \"fontWeight\": {\"field\": \"datum.weight\"},\n",
    "          \"fontSizeRange\": [12, 56],\n",
    "          \"padding\": 2\n",
    "        }\n",
    "      ]\n",
    "    }\n",
    "  ]\n",
    "}\n",
    "alt.vega.v3.vega(vega_wordcloud_json)"
   ]
  },
  {
   "cell_type": "code",
   "execution_count": 24,
   "metadata": {},
   "outputs": [
    {
     "name": "stdout",
     "output_type": "stream",
     "text": [
      "default\n"
     ]
    }
   ],
   "source": [
    "print(alt.renderers.active)"
   ]
  },
  {
   "cell_type": "code",
   "execution_count": null,
   "metadata": {},
   "outputs": [],
   "source": []
  }
 ],
 "metadata": {
  "kernelspec": {
   "display_name": "Python 3",
   "language": "python",
   "name": "python3"
  },
  "language_info": {
   "codemirror_mode": {
    "name": "ipython",
    "version": 3
   },
   "file_extension": ".py",
   "mimetype": "text/x-python",
   "name": "python",
   "nbconvert_exporter": "python",
   "pygments_lexer": "ipython3",
   "version": "3.6.3"
  }
 },
 "nbformat": 4,
 "nbformat_minor": 2
}
