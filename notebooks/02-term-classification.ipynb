{
 "cells": [
  {
   "cell_type": "markdown",
   "metadata": {},
   "source": [
    "# Term Classification\n",
    "\n",
    "To discover relationships between the records and find common themes it would help to know which words used in the descriptions are medical in nature. Additional details such as if a term is an ingredient in a medical recipe, a body part or a notable person would be helpful.\n",
    "\n",
    "The fuzzy nature of what constitutes a medical term, and the project's very limited timescale means automation of this classification work is unlikely to be the optimal approach. Instead, getting a human (subject expert) to classify terms will ensure good accuracy levels for a predictable time expendature, so long as the quantity of terms is not too large."
   ]
  },
  {
   "cell_type": "code",
   "execution_count": 1,
   "metadata": {},
   "outputs": [],
   "source": [
    "import re\n",
    "\n",
    "# We'll use Natural Language Toolkit for text tokenisation\n",
    "import nltk\n",
    "import pandas as pd"
   ]
  },
  {
   "cell_type": "code",
   "execution_count": 2,
   "metadata": {},
   "outputs": [
    {
     "data": {
      "text/html": [
       "<div>\n",
       "<style scoped>\n",
       "    .dataframe tbody tr th:only-of-type {\n",
       "        vertical-align: middle;\n",
       "    }\n",
       "\n",
       "    .dataframe tbody tr th {\n",
       "        vertical-align: top;\n",
       "    }\n",
       "\n",
       "    .dataframe thead th {\n",
       "        text-align: right;\n",
       "    }\n",
       "</style>\n",
       "<table border=\"1\" class=\"dataframe\">\n",
       "  <thead>\n",
       "    <tr style=\"text-align: right;\">\n",
       "      <th></th>\n",
       "      <th>title</th>\n",
       "      <th>summary</th>\n",
       "      <th>material</th>\n",
       "      <th>date_start</th>\n",
       "      <th>date_end</th>\n",
       "      <th>width</th>\n",
       "      <th>height</th>\n",
       "      <th>columns</th>\n",
       "      <th>lines</th>\n",
       "    </tr>\n",
       "    <tr>\n",
       "      <th>classmark</th>\n",
       "      <th></th>\n",
       "      <th></th>\n",
       "      <th></th>\n",
       "      <th></th>\n",
       "      <th></th>\n",
       "      <th></th>\n",
       "      <th></th>\n",
       "      <th></th>\n",
       "      <th></th>\n",
       "    </tr>\n",
       "  </thead>\n",
       "  <tbody>\n",
       "    <tr>\n",
       "      <th>MS-OR-01080-00001-00063</th>\n",
       "      <td>Medical</td>\n",
       "      <td>Pharmacopoeia, containing diagrams and symbols...</td>\n",
       "      <td>paper</td>\n",
       "      <td>0500-01-01</td>\n",
       "      <td>1899-12-31</td>\n",
       "      <td>14.3</td>\n",
       "      <td>21.2</td>\n",
       "      <td>1.0</td>\n",
       "      <td>21.0</td>\n",
       "    </tr>\n",
       "    <tr>\n",
       "      <th>MS-OR-01080-00001-00072</th>\n",
       "      <td>Medical</td>\n",
       "      <td>Discussion of various medical treatments, regi...</td>\n",
       "      <td>vellum</td>\n",
       "      <td>0500-01-01</td>\n",
       "      <td>1899-12-31</td>\n",
       "      <td>16.8</td>\n",
       "      <td>36.4</td>\n",
       "      <td>1.0</td>\n",
       "      <td>22.0</td>\n",
       "    </tr>\n",
       "    <tr>\n",
       "      <th>MS-OR-01080-00001-00081</th>\n",
       "      <td>Medical</td>\n",
       "      <td>Medical work on the composition of the body, c...</td>\n",
       "      <td>paper</td>\n",
       "      <td>0500-01-01</td>\n",
       "      <td>1899-12-31</td>\n",
       "      <td>16.8</td>\n",
       "      <td>25.4</td>\n",
       "      <td>1.0</td>\n",
       "      <td>12.0</td>\n",
       "    </tr>\n",
       "    <tr>\n",
       "      <th>MS-OR-01080-00001-00087</th>\n",
       "      <td>Medical</td>\n",
       "      <td>Recto: a short medical recipe. Verso: a respon...</td>\n",
       "      <td>paper</td>\n",
       "      <td>1213-01-01</td>\n",
       "      <td>1233-12-31</td>\n",
       "      <td>NaN</td>\n",
       "      <td>NaN</td>\n",
       "      <td>1.0</td>\n",
       "      <td>5.0</td>\n",
       "    </tr>\n",
       "    <tr>\n",
       "      <th>MS-OR-01080-00002-00070</th>\n",
       "      <td>Medical</td>\n",
       "      <td>Autograph draft of a medical work by Moses Mai...</td>\n",
       "      <td>paper</td>\n",
       "      <td>1100-01-01</td>\n",
       "      <td>1199-12-31</td>\n",
       "      <td>22.8</td>\n",
       "      <td>31.5</td>\n",
       "      <td>1.0</td>\n",
       "      <td>35.0</td>\n",
       "    </tr>\n",
       "  </tbody>\n",
       "</table>\n",
       "</div>"
      ],
      "text/plain": [
       "                           title  \\\n",
       "classmark                          \n",
       "MS-OR-01080-00001-00063  Medical   \n",
       "MS-OR-01080-00001-00072  Medical   \n",
       "MS-OR-01080-00001-00081  Medical   \n",
       "MS-OR-01080-00001-00087  Medical   \n",
       "MS-OR-01080-00002-00070  Medical   \n",
       "\n",
       "                                                                   summary  \\\n",
       "classmark                                                                    \n",
       "MS-OR-01080-00001-00063  Pharmacopoeia, containing diagrams and symbols...   \n",
       "MS-OR-01080-00001-00072  Discussion of various medical treatments, regi...   \n",
       "MS-OR-01080-00001-00081  Medical work on the composition of the body, c...   \n",
       "MS-OR-01080-00001-00087  Recto: a short medical recipe. Verso: a respon...   \n",
       "MS-OR-01080-00002-00070  Autograph draft of a medical work by Moses Mai...   \n",
       "\n",
       "                        material  date_start    date_end  width  height  \\\n",
       "classmark                                                                 \n",
       "MS-OR-01080-00001-00063    paper  0500-01-01  1899-12-31   14.3    21.2   \n",
       "MS-OR-01080-00001-00072   vellum  0500-01-01  1899-12-31   16.8    36.4   \n",
       "MS-OR-01080-00001-00081    paper  0500-01-01  1899-12-31   16.8    25.4   \n",
       "MS-OR-01080-00001-00087    paper  1213-01-01  1233-12-31    NaN     NaN   \n",
       "MS-OR-01080-00002-00070    paper  1100-01-01  1199-12-31   22.8    31.5   \n",
       "\n",
       "                         columns  lines  \n",
       "classmark                                \n",
       "MS-OR-01080-00001-00063      1.0   21.0  \n",
       "MS-OR-01080-00001-00072      1.0   22.0  \n",
       "MS-OR-01080-00001-00081      1.0   12.0  \n",
       "MS-OR-01080-00001-00087      1.0    5.0  \n",
       "MS-OR-01080-00002-00070      1.0   35.0  "
      ]
     },
     "execution_count": 2,
     "metadata": {},
     "output_type": "execute_result"
    }
   ],
   "source": [
    "columns = ['title', 'summary', 'material', 'date_start', \n",
    "           'date_end', 'width', 'height', 'columns', 'lines']\n",
    "\n",
    "data = pd.read_json('../medical-data/genizah-medical.json', orient='index')[columns]\n",
    "data.index.name = 'classmark'\n",
    "data.head()"
   ]
  },
  {
   "cell_type": "code",
   "execution_count": 3,
   "metadata": {},
   "outputs": [],
   "source": [
    "# A few works are single-quoted with apostrophies (e.g. \"'mace'\" in MS-TS-AS-00167-00137)\n",
    "# which is tokenised to \"'mace\", \"'\". Replacing the apostophies with single quotes avoids this.\n",
    "summaries = data.summary.str.replace(r\"'([a-zA-Z]+)(?: +(?:[a-zA-Z]+))*'\", r'‘\\1’')\n",
    "summaries = summaries.str.lower()"
   ]
  },
  {
   "cell_type": "code",
   "execution_count": 4,
   "metadata": {},
   "outputs": [],
   "source": [
    "# Detect and ignore tokens which are of no interest\n",
    "def ignore(token):\n",
    "    return bool(len(token) < 2 or re.search(r'[0-9]|^\\.+$', token))\n",
    "\n",
    "lem = nltk.WordNetLemmatizer()\n",
    "def tokenise(text, ignore=ignore):\n",
    "    return [lem.lemmatize(w) for w in nltk.word_tokenize(text) if not ignore(w)]"
   ]
  },
  {
   "cell_type": "code",
   "execution_count": 5,
   "metadata": {},
   "outputs": [
    {
     "data": {
      "text/html": [
       "<div>\n",
       "<style scoped>\n",
       "    .dataframe tbody tr th:only-of-type {\n",
       "        vertical-align: middle;\n",
       "    }\n",
       "\n",
       "    .dataframe tbody tr th {\n",
       "        vertical-align: top;\n",
       "    }\n",
       "\n",
       "    .dataframe thead th {\n",
       "        text-align: right;\n",
       "    }\n",
       "</style>\n",
       "<table border=\"1\" class=\"dataframe\">\n",
       "  <thead>\n",
       "    <tr style=\"text-align: right;\">\n",
       "      <th></th>\n",
       "      <th>classmark</th>\n",
       "      <th>token</th>\n",
       "    </tr>\n",
       "  </thead>\n",
       "  <tbody>\n",
       "    <tr>\n",
       "      <th>0</th>\n",
       "      <td>MS-OR-01080-00001-00063</td>\n",
       "      <td>pharmacopoeia</td>\n",
       "    </tr>\n",
       "    <tr>\n",
       "      <th>1</th>\n",
       "      <td>MS-OR-01080-00001-00063</td>\n",
       "      <td>containing</td>\n",
       "    </tr>\n",
       "    <tr>\n",
       "      <th>2</th>\n",
       "      <td>MS-OR-01080-00001-00063</td>\n",
       "      <td>diagram</td>\n",
       "    </tr>\n",
       "    <tr>\n",
       "      <th>3</th>\n",
       "      <td>MS-OR-01080-00001-00063</td>\n",
       "      <td>and</td>\n",
       "    </tr>\n",
       "    <tr>\n",
       "      <th>4</th>\n",
       "      <td>MS-OR-01080-00001-00063</td>\n",
       "      <td>symbol</td>\n",
       "    </tr>\n",
       "  </tbody>\n",
       "</table>\n",
       "</div>"
      ],
      "text/plain": [
       "                 classmark          token\n",
       "0  MS-OR-01080-00001-00063  pharmacopoeia\n",
       "1  MS-OR-01080-00001-00063     containing\n",
       "2  MS-OR-01080-00001-00063        diagram\n",
       "3  MS-OR-01080-00001-00063            and\n",
       "4  MS-OR-01080-00001-00063         symbol"
      ]
     },
     "execution_count": 5,
     "metadata": {},
     "output_type": "execute_result"
    }
   ],
   "source": [
    "tokens = pd.DataFrame.from_records(\n",
    "    ((classmark, token) for classmark, summary in summaries.items() for token in tokenise(summary)),\n",
    "    columns='classmark token'.split()\n",
    ")\n",
    "tokens.head()"
   ]
  },
  {
   "cell_type": "code",
   "execution_count": 6,
   "metadata": {},
   "outputs": [
    {
     "data": {
      "text/html": [
       "<div>\n",
       "<style scoped>\n",
       "    .dataframe tbody tr th:only-of-type {\n",
       "        vertical-align: middle;\n",
       "    }\n",
       "\n",
       "    .dataframe tbody tr th {\n",
       "        vertical-align: top;\n",
       "    }\n",
       "\n",
       "    .dataframe thead th {\n",
       "        text-align: right;\n",
       "    }\n",
       "</style>\n",
       "<table border=\"1\" class=\"dataframe\">\n",
       "  <thead>\n",
       "    <tr style=\"text-align: right;\">\n",
       "      <th></th>\n",
       "      <th>tokens</th>\n",
       "    </tr>\n",
       "  </thead>\n",
       "  <tbody>\n",
       "    <tr>\n",
       "      <th>0</th>\n",
       "      <td>pharmacopoeia</td>\n",
       "    </tr>\n",
       "    <tr>\n",
       "      <th>1</th>\n",
       "      <td>containing</td>\n",
       "    </tr>\n",
       "    <tr>\n",
       "      <th>2</th>\n",
       "      <td>diagram</td>\n",
       "    </tr>\n",
       "    <tr>\n",
       "      <th>3</th>\n",
       "      <td>and</td>\n",
       "    </tr>\n",
       "    <tr>\n",
       "      <th>4</th>\n",
       "      <td>symbol</td>\n",
       "    </tr>\n",
       "  </tbody>\n",
       "</table>\n",
       "</div>"
      ],
      "text/plain": [
       "          tokens\n",
       "0  pharmacopoeia\n",
       "1     containing\n",
       "2        diagram\n",
       "3            and\n",
       "4         symbol"
      ]
     },
     "execution_count": 6,
     "metadata": {},
     "output_type": "execute_result"
    }
   ],
   "source": [
    "unique_tokens = pd.DataFrame({'tokens': tokens.token.unique()})\n",
    "unique_tokens.head()"
   ]
  },
  {
   "cell_type": "markdown",
   "metadata": {},
   "source": [
    "We've only got ~4000 unique tokens, making human classification of tokens practical."
   ]
  },
  {
   "cell_type": "code",
   "execution_count": 7,
   "metadata": {},
   "outputs": [
    {
     "data": {
      "text/plain": [
       "3817"
      ]
     },
     "execution_count": 7,
     "metadata": {},
     "output_type": "execute_result"
    }
   ],
   "source": [
    "len(unique_tokens)"
   ]
  },
  {
   "cell_type": "markdown",
   "metadata": {},
   "source": [
    "Create create the all-tokens.csv file."
   ]
  },
  {
   "cell_type": "code",
   "execution_count": 8,
   "metadata": {},
   "outputs": [],
   "source": [
    "unique_tokens.sort_values('tokens').to_csv('../medical-data/all-tokens.csv', index=False)"
   ]
  }
 ],
 "metadata": {
  "kernelspec": {
   "display_name": "Python 3",
   "language": "python",
   "name": "python3"
  },
  "language_info": {
   "codemirror_mode": {
    "name": "ipython",
    "version": 3
   },
   "file_extension": ".py",
   "mimetype": "text/x-python",
   "name": "python",
   "nbconvert_exporter": "python",
   "pygments_lexer": "ipython3",
   "version": "3.6.3"
  }
 },
 "nbformat": 4,
 "nbformat_minor": 2
}
